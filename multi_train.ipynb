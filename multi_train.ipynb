{
 "cells": [
  {
   "cell_type": "code",
   "execution_count": 8,
   "metadata": {},
   "outputs": [],
   "source": [
    "import platform\n",
    "os = platform.system()"
   ]
  },
  {
   "cell_type": "code",
   "execution_count": 11,
   "metadata": {},
   "outputs": [
    {
     "name": "stdout",
     "output_type": "stream",
     "text": [
      "usage: training.py [-h] [-b BATCH_SIZE] [-l LEARNING_RATE] [-e EPOCHS]\n",
      "                   [-mo MODEL] [-me MEL_AUGMENT_TYPE]\n",
      "                   [-f RECOVERY_FOLDER_NAME]\n",
      "\n",
      "Train a contrastive model on the MTG dataset\n",
      "\n",
      "options:\n",
      "  -h, --help            show this help message and exit\n",
      "  -b BATCH_SIZE, --batch_size BATCH_SIZE\n",
      "                        Batch size for training. Default is 256\n",
      "  -l LEARNING_RATE, --learning_rate LEARNING_RATE\n",
      "                        Learning rate for training. Default is 0.001\n",
      "  -e EPOCHS, --epochs EPOCHS\n",
      "                        Number of epochs for training. Default is 25\n",
      "  -mo MODEL, --model MODEL\n",
      "                        Model to use for training the contrastive model\n",
      "                        (GTZANContrastiveModelXLarge,\n",
      "                        GTZANContrastiveModelLarge,\n",
      "                        GTZANContrastiveModelMedium,\n",
      "                        GTZANContrastiveModelSmall). Default is\n",
      "                        GTZANContrastiveModelLarge\n",
      "  -me MEL_AUGMENT_TYPE, --mel_augment_type MEL_AUGMENT_TYPE\n",
      "                        Type of mel spectrogram augmentation to use (1, 2, 3).\n",
      "                        Default is 1\n",
      "  -f RECOVERY_FOLDER_NAME, --recovery_folder_name RECOVERY_FOLDER_NAME\n",
      "                        Name of the folder to recover the model from. Default\n",
      "                        is None, which creates a new folder\n"
     ]
    }
   ],
   "source": [
    "! /home/gurpreet/workspace/aps360-audio/.venv/bin/python /home/gurpreet/workspace/aps360-audio/training.py --help"
   ]
  },
  {
   "cell_type": "code",
   "execution_count": 9,
   "metadata": {},
   "outputs": [
    {
     "name": "stdout",
     "output_type": "stream",
     "text": [
      "Linux\n"
     ]
    }
   ],
   "source": [
    "if os == \"Linux\":\n",
    "    ! /home/gurpreet/workspace/aps360-audio/.venv/bin/python /home/gurpreet/workspace/aps360-audio/training.py -e 50 \n",
    "elif os == \"Windows\":\n",
    "    ! .\\.venv\\Scripts\\python.exe .\\training.py -e 50\n",
    "    "
   ]
  },
  {
   "cell_type": "code",
   "execution_count": null,
   "metadata": {},
   "outputs": [],
   "source": [
    "if os == \"Linux\":\n",
    "    ! /home/gurpreet/workspace/aps360-audio/.venv/bin/python /home/gurpreet/workspace/aps360-audio/training.py -e 50 -b 512\n",
    "elif os == \"Windows\":\n",
    "    ! .\\.venv\\Scripts\\python.exe .\\training.py -e 50 -b 512"
   ]
  }
 ],
 "metadata": {
  "kernelspec": {
   "display_name": ".venv",
   "language": "python",
   "name": "python3"
  },
  "language_info": {
   "codemirror_mode": {
    "name": "ipython",
    "version": 3
   },
   "file_extension": ".py",
   "mimetype": "text/x-python",
   "name": "python",
   "nbconvert_exporter": "python",
   "pygments_lexer": "ipython3",
   "version": "3.12.3"
  }
 },
 "nbformat": 4,
 "nbformat_minor": 2
}
