{
 "cells": [
  {
   "cell_type": "code",
   "execution_count": 1,
   "metadata": {},
   "outputs": [],
   "source": [
    "import platform\n",
    "os = platform.system()"
   ]
  },
  {
   "cell_type": "code",
   "execution_count": 12,
   "metadata": {},
   "outputs": [
    {
     "name": "stdout",
     "output_type": "stream",
     "text": [
      "Using device: cuda\n",
      "Using MTGContrastiveDataset\n",
      "Using MTGContrastiveDataset\n",
      "Checkpoint file output/2024_08_09_01_17_02/M(GTZANContrastiveModelLarge)_CONTDIM(128)_KS(3)_LR(0.001)_BS(256)_DT(1)_latestcheckpoint.pth not found, starting with a fresh model\n"
     ]
    }
   ],
   "source": [
    "%%bash\n",
    "/home/gurpreet/workspace/aps360-audio/.venv/bin/python /home/gurpreet/workspace/aps360-audio/training.py -e 50"
   ]
  },
  {
   "cell_type": "code",
   "execution_count": 9,
   "metadata": {},
   "outputs": [
    {
     "name": "stdout",
     "output_type": "stream",
     "text": [
      "Linux\n"
     ]
    }
   ],
   "source": [
    "%%cmd\n",
    ".\\.venv\\Scripts\\python.exe .\\training.py -e 50"
   ]
  },
  {
   "cell_type": "code",
   "execution_count": null,
   "metadata": {},
   "outputs": [],
   "source": [
    "%%bash\n",
    "/home/gurpreet/workspace/aps360-audio/.venv/bin/python /home/gurpreet/workspace/aps360-audio/training.py -e 50 -b 512"
   ]
  },
  {
   "cell_type": "code",
   "execution_count": null,
   "metadata": {},
   "outputs": [],
   "source": [
    "%%cmd\n",
    ".\\.venv\\Scripts\\python.exe .\\training.py -e 50 -b 512"
   ]
  }
 ],
 "metadata": {
  "kernelspec": {
   "display_name": ".venv",
   "language": "python",
   "name": "python3"
  },
  "language_info": {
   "codemirror_mode": {
    "name": "ipython",
    "version": 3
   },
   "file_extension": ".py",
   "mimetype": "text/x-python",
   "name": "python",
   "nbconvert_exporter": "python",
   "pygments_lexer": "ipython3",
   "version": "3.12.3"
  }
 },
 "nbformat": 4,
 "nbformat_minor": 2
}
