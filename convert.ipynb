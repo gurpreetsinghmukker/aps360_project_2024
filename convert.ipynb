{
 "cells": [
  {
   "cell_type": "code",
   "execution_count": 2,
   "metadata": {},
   "outputs": [],
   "source": [
    "from pydub import AudioSegment\n",
    "from pathlib import Path"
   ]
  },
  {
   "cell_type": "code",
   "execution_count": 3,
   "metadata": {},
   "outputs": [],
   "source": [
    "source_path = Path('/home/gurpreet/workspace/aps360-audio/mtg')\n",
    "destination_path = Path('/home/gurpreet/workspace/aps360-audio/mtg_flac')\n",
    "\n",
    "\n",
    "source_file_path = source_path /'00/1100.low.mp3'\n",
    "dest_file_path = destination_path / '00'\n",
    "\n",
    "if dest_file_path.exists() == False:\n",
    "    dest_file_path.mkdir(parents=True)\n",
    "# Load mp3 file\n",
    "\n"
   ]
  },
  {
   "cell_type": "code",
   "execution_count": null,
   "metadata": {},
   "outputs": [],
   "source": [
    "\n",
    "mp3_audio = AudioSegment.from_mp3(source_file_path)\n",
    "\n",
    "# Export as FLAC\n",
    "mp3_audio.export(dest_file_path/'1100.low.flac', format=\"flac\")"
   ]
  },
  {
   "cell_type": "code",
   "execution_count": 13,
   "metadata": {},
   "outputs": [
    {
     "name": "stdout",
     "output_type": "stream",
     "text": [
      "Time to load flac: 0.2884082794189453\n",
      "Time to load mp3: 0.27901530265808105\n"
     ]
    }
   ],
   "source": [
    "import torchaudio\n",
    "import time\n",
    "import pickle\n",
    "\n",
    "flat_start = time.time()\n",
    "waveform_flac = torchaudio.load(dest_file_path/'1100.low.flac')\n",
    "print(f'Time to load flac: {time.time() - flat_start}')\n",
    "\n",
    "mp3_start = time.time()\n",
    "waveform_mp3 = torchaudio.load(source_file_path)\n",
    "print(f'Time to load mp3: {time.time() - mp3_start}')\n",
    "\n",
    "#pickel the waveform\n",
    "with open(dest_file_path/'1100.low.pkl', 'wb') as f:\n",
    "    pickle.dump(waveform_flac, f)\n",
    "\n"
   ]
  },
  {
   "cell_type": "code",
   "execution_count": 14,
   "metadata": {},
   "outputs": [
    {
     "name": "stdout",
     "output_type": "stream",
     "text": [
      "Time to load pickled waveform: 0.10368204116821289\n",
      "torch.Size([1, 13625136])\n"
     ]
    }
   ],
   "source": [
    "#load the pickled waveform\n",
    "loading_Start = time.time()\n",
    "with open(dest_file_path/'1100.low.pkl', 'rb') as f:\n",
    "    waveform_flac = pickle.load(f)\n",
    "print(f'Time to load pickled waveform: {time.time() - loading_Start}')\n",
    "\n",
    "print(waveform_flac[0].shape)"
   ]
  }
 ],
 "metadata": {
  "kernelspec": {
   "display_name": ".venv",
   "language": "python",
   "name": "python3"
  },
  "language_info": {
   "codemirror_mode": {
    "name": "ipython",
    "version": 3
   },
   "file_extension": ".py",
   "mimetype": "text/x-python",
   "name": "python",
   "nbconvert_exporter": "python",
   "pygments_lexer": "ipython3",
   "version": "3.12.3"
  }
 },
 "nbformat": 4,
 "nbformat_minor": 2
}
