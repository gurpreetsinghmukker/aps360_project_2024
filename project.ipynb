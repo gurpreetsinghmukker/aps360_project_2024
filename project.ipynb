{
  "cells": [
    {
      "cell_type": "markdown",
      "metadata": {},
      "source": [
        "# Always Run\n",
        "\n",
        "This sets up global variables that will be used throughout."
      ]
    },
    {
      "cell_type": "code",
      "execution_count": 1,
      "metadata": {},
      "outputs": [],
      "source": [
        "from pathlib import Path\n",
        "output_dir = Path('output')\n",
        "output_dir.mkdir(exist_ok=True)"
      ]
    },
    {
      "cell_type": "code",
      "execution_count": 2,
      "metadata": {},
      "outputs": [
        {
          "name": "stdout",
          "output_type": "stream",
          "text": [
            "Using device: cuda\n"
          ]
        }
      ],
      "source": [
        "# Check which devices are available. We check for gpu and mps\n",
        "import torch\n",
        "if torch.cuda.is_available():\n",
        "    device = torch.device(\"cuda\")\n",
        "elif torch.backends.mps.is_available():\n",
        "    device = torch.device(\"mps\")\n",
        "else:\n",
        "    device = torch.device(\"cpu\")\n",
        "print(f\"Using device: {device}\")"
      ]
    },
    {
      "cell_type": "code",
      "execution_count": 3,
      "metadata": {},
      "outputs": [],
      "source": [
        "import importlib\n",
        "import transform_utilities\n",
        "import visualization_utilities\n",
        "import gtzan_dataset\n",
        "import models\n",
        "import mtg_contrastive\n",
        "import mtg_contrastive_mel\n",
        "import infonce_loss\n",
        "import barlow_twin_loss\n"
      ]
    },
    {
      "cell_type": "markdown",
      "metadata": {},
      "source": [
        "# Reload Packages after Changes are made"
      ]
    },
    {
      "cell_type": "code",
      "execution_count": 35,
      "metadata": {},
      "outputs": [],
      "source": [
        "importlib.reload(transform_utilities)\n",
        "importlib.reload(visualization_utilities)\n",
        "importlib.reload(gtzan_dataset)\n",
        "importlib.reload(models)\n",
        "importlib.reload(mtg_contrastive)\n",
        "importlib.reload(mtg_contrastive_mel)\n",
        "importlib.reload(infonce_loss)\n",
        "importlib.reload(barlow_twin_loss)\n",
        "\n",
        "\n",
        "from transform_utilities import *\n",
        "from visualization_utilities import *\n",
        "from gtzan_dataset import *\n",
        "from models import *\n",
        "from mtg_contrastive import MTGContrastiveDataset\n",
        "from mtg_contrastive_mel import MTG_Mel_ContrastiveDataset, worker_init_fn\n",
        "from infonce_loss import InfoNCE\n",
        "from barlow_twin_loss import BarlowTwinsLoss\n",
        "\n"
      ]
    },
    {
      "cell_type": "code",
      "execution_count": 5,
      "metadata": {},
      "outputs": [
        {
          "data": {
            "text/plain": [
              "<module 'pickle' from '/usr/lib/python3.12/pickle.py'>"
            ]
          },
          "execution_count": 5,
          "metadata": {},
          "output_type": "execute_result"
        }
      ],
      "source": [
        "from pathlib import Path\n",
        "from tqdm import tqdm\n",
        "from torch.utils.data import dataloader\n",
        "import numpy as np\n",
        "import pickle\n",
        "import shutil\n",
        "\n",
        "importlib.reload(pickle)\n"
      ]
    },
    {
      "cell_type": "code",
      "execution_count": 6,
      "metadata": {},
      "outputs": [
        {
          "data": {
            "text/plain": [
              "<torch._C.Generator at 0x7c1302b3ff90>"
            ]
          },
          "execution_count": 6,
          "metadata": {},
          "output_type": "execute_result"
        }
      ],
      "source": [
        "p_test = 0.2\n",
        "p_train_val = 1 - p_test\n",
        "\n",
        "SEED = 42\n",
        "np.random.seed(SEED)\n",
        "torch.manual_seed(SEED)"
      ]
    },
    {
      "cell_type": "code",
      "execution_count": 7,
      "metadata": {},
      "outputs": [
        {
          "data": {
            "text/plain": [
              "PosixPath('output/barlow_contrastive')"
            ]
          },
          "execution_count": 7,
          "metadata": {},
          "output_type": "execute_result"
        }
      ],
      "source": [
        "# Path for the deep model trained end to end on GTZAN\n",
        "deep_base_output_dir = output_dir / 'base_gtzan'\n",
        "deep_base_output_dir.mkdir(exist_ok=True)\n",
        "\n",
        "# Define the path for the checkpoints for the pretrained contrastive model\n",
        "contrastive_output_dir = output_dir / 'contrastive'\n",
        "contrastive_output_dir.mkdir(exist_ok=True)\n",
        "\n",
        "# Define the path for the checkpoints for the pretrained barlow model\n",
        "barlow_contrastive_output_dir = output_dir / 'barlow_contrastive'\n",
        "barlow_contrastive_output_dir.mkdir(exist_ok=True)\n",
        "\n",
        "# Path for the mlp that accepts the embeddings (un-normalized) from the contrastive model\n",
        "contrastive_classifier_output_dir = output_dir / 'contrastive_classifier'\n",
        "contrastive_classifier_output_dir.mkdir(exist_ok=True)\n",
        "\n",
        "# Path for the mlp that accepts the logits from the contrastive model\n",
        "contrastive_classifier_embedder_only_output_dir = output_dir / 'contrastive_classifier_embedder_only'\n",
        "contrastive_classifier_embedder_only_output_dir.mkdir(exist_ok=True)\n",
        "\n",
        "# Path for the mlp that accepts the embeddings (normalized) from the barlow model\n",
        "contrastive_classifier_barlow_output_dir = output_dir / 'contrastive_classifier_barlow'\n",
        "contrastive_classifier_barlow_output_dir.mkdir(exist_ok=True)\n",
        "\n",
        "# Path for the mlp that accepts the logits from the barlow model\n",
        "contrastive_classifier_barlow_embedder_only_output_dir = output_dir / 'contrastive_classifier_barlow_embedder_only'\n",
        "contrastive_classifier_barlow_embedder_only_output_dir.mkdir(exist_ok=True)\n",
        "\n",
        "# Path for baseline random forest\n",
        "baseline_random_forest_output_dir = output_dir / 'baseline_random_forest'\n",
        "baseline_random_forest_output_dir.mkdir(exist_ok=True)\n",
        "\n",
        "# Path for the random forest that uses contrastive embeddings\n",
        "contrastive_random_forest_output_dir = output_dir / 'contrastive_random_forest'\n",
        "contrastive_random_forest_output_dir.mkdir(exist_ok=True)\n",
        "\n",
        "barlow_contrastive_output_dir\n"
      ]
    },
    {
      "cell_type": "markdown",
      "metadata": {
        "id": "aScSTJ7_hjBx"
      },
      "source": [
        "# GTZag Dataset\n",
        "This is a 1000 file dataset with 10 genres represented. Each file is assigned to a single genre with no overlap. Each genre has exactly 100 files associated with it.\n",
        "\n",
        "This makes it very easy to use, but it is rather small. If we have extra time, it may be good to evaluate on the larger MTG dataset anyways."
      ]
    },
    {
      "cell_type": "code",
      "execution_count": 8,
      "metadata": {
        "colab": {
          "base_uri": "https://localhost:8080/",
          "height": 198
        },
        "id": "VF275juqEPZ0",
        "outputId": "0efb987b-efb5-4192-9d27-a21ae30905cf"
      },
      "outputs": [
        {
          "name": "stdout",
          "output_type": "stream",
          "text": [
            "/home/gurpreet/workspace/aps360-audio/genres\n"
          ]
        }
      ],
      "source": [
        "from pathlib import Path\n",
        "import torchaudio\n",
        "\n",
        "gtzan_dir = Path('./genres')\n",
        "print(gtzan_dir.absolute().as_posix())\n",
        "gtzan_dir.mkdir(parents=True, exist_ok=True)\n",
        "\n",
        "dataset_tar_path = gtzan_dir / 'genres.tar.gz'\n",
        "dataset_path = gtzan_dir / 'genres'"
      ]
    },
    {
      "cell_type": "code",
      "execution_count": 9,
      "metadata": {
        "colab": {
          "base_uri": "https://localhost:8080/"
        },
        "id": "TiP0yephif0b",
        "outputId": "f712dd44-5473-417d-d315-f7980eb04e56"
      },
      "outputs": [],
      "source": [
        "if not dataset_path.exists():\n",
        "    !wget \"https://huggingface.co/datasets/marsyas/gtzan/resolve/main/data/genres.tar.gz?download=true\" -O $dataset_tar_path\n",
        "    # This creates a /content/genres folder with subfolders for each genre\n",
        "    !tar -xf $dataset_tar_path -C $gtzan_dir"
      ]
    },
    {
      "cell_type": "code",
      "execution_count": 10,
      "metadata": {},
      "outputs": [],
      "source": [
        "references_sample_rate = 22050"
      ]
    },
    {
      "cell_type": "code",
      "execution_count": 11,
      "metadata": {
        "colab": {
          "base_uri": "https://localhost:8080/"
        },
        "id": "k6EIRsypkdRW",
        "outputId": "a91a13d5-1924-4297-e5d3-61d902cd77b6"
      },
      "outputs": [
        {
          "name": "stdout",
          "output_type": "stream",
          "text": [
            "Processing Genre 0 with 100 files\n",
            "Setting references_sample_rate to 22050\n",
            "Processing Genre 1 with 100 files\n",
            "Processing Genre 2 with 100 files\n",
            "Processing Genre 3 with 100 files\n",
            "Processing Genre 4 with 100 files\n",
            "Processing Genre 5 with 100 files\n",
            "Error loading genres/genres/jazz/jazz.00054.wav\n",
            "Processing Genre 6 with 100 files\n",
            "Processing Genre 7 with 100 files\n",
            "Processing Genre 8 with 100 files\n",
            "Processing Genre 9 with 100 files\n"
          ]
        }
      ],
      "source": [
        "\n",
        "# Collect the waveforms into a dictionary of genre index to list of waveforms\n",
        "genre_folders = sorted(list(dataset_path.glob('[!.]*')))\n",
        "genres = [folder.name.split(\"/\")[-1] for folder in genre_folders]\n",
        "genre_index_map = {genre: i for i, genre in enumerate(genres)}\n",
        "audio_tensors = {\n",
        "    genre_index_map[genre]: [] for genre in genres\n",
        "}\n",
        "\n",
        "references_sample_rate = None\n",
        "for genre_folder in genre_folders:\n",
        "    files = sorted(list(genre_folder.glob('[!.]*.wav')))\n",
        "    genre = genre_index_map[genre_folder.name.split(\"/\")[-1]]\n",
        "    print(f'Processing Genre {genre} with {len(files)} files')\n",
        "    for file in files:\n",
        "        try:\n",
        "            waveform, sample_rate = torchaudio.load(file)\n",
        "            if references_sample_rate is None:\n",
        "                print(f'Setting references_sample_rate to {sample_rate}')\n",
        "                references_sample_rate = sample_rate\n",
        "            if sample_rate != references_sample_rate:\n",
        "                print(f'Resampling {file} from {sample_rate} to {references_sample_rate}')\n",
        "                waveform = torchaudio.functional.resample(waveform, sample_rate, references_sample_rate)\n",
        "            audio_tensors[genre].append(waveform)\n",
        "        except RuntimeError:\n",
        "            print(f'Error loading {file}')\n",
        "\n",
        "# For each genre, select p_test of the waveforms to be in the test set\n",
        "np.random.seed(SEED)\n",
        "audio_tensors_test = {}\n",
        "for genre, tensors in audio_tensors.items():\n",
        "    n = len(tensors)\n",
        "    n_test = int(n * p_test)\n",
        "    test_indices = np.random.choice(n, n_test, replace=False)\n",
        "    audio_tensors_test[genre] = [tensors[i] for i in range(n) if i in test_indices]\n",
        "    audio_tensors[genre] = [tensors[i] for i in range(n) if i not in test_indices]"
      ]
    },
    {
      "cell_type": "code",
      "execution_count": 12,
      "metadata": {
        "colab": {
          "base_uri": "https://localhost:8080/",
          "height": 755
        },
        "id": "MF1lGF_NofJV",
        "outputId": "796d3865-190d-4675-bec1-606f22e97e3a"
      },
      "outputs": [
        {
          "name": "stdout",
          "output_type": "stream",
          "text": [
            "Genre: classical\n",
            "Sample: 3\n"
          ]
        },
        {
          "data": {
            "image/png": "[encoded data removed]",
            "text/plain": [
              "<Figure size 1000x400 with 1 Axes>"
            ]
          },
          "metadata": {},
          "output_type": "display_data"
        },
        {
          "data": {
            "image/png": "[encoded data removed]",
            "text/plain": [
              "<Figure size 1000x400 with 1 Axes>"
            ]
          },
          "metadata": {},
          "output_type": "display_data"
        }
      ],
      "source": [
        "test_genre = 1\n",
        "test_sample = 3\n",
        "\n",
        "print(f\"Genre: {genres[test_genre]}\")\n",
        "print(f\"Sample: {test_sample}\")\n",
        "\n",
        "test_mel = get_mel_spectrogram(audio_tensors[test_genre][test_sample], references_sample_rate)\n",
        "visualize_mel_spectrogram(test_mel)\n",
        "\n",
        "test_waveform = visualize_waveform(audio_tensors[test_genre][test_sample], references_sample_rate)"
      ]
    },
    {
      "cell_type": "code",
      "execution_count": 12,
      "metadata": {},
      "outputs": [
        {
          "name": "stdout",
          "output_type": "stream",
          "text": [
            "Dataset size: 800\n"
          ]
        }
      ],
      "source": [
        "ds = GTZANDataset(audio_tensors, genres, genre_index_map, references_sample_rate, mask_prob=0)\n",
        "print(f\"Dataset size: {len(ds)}\")"
      ]
    },
    {
      "cell_type": "code",
      "execution_count": 13,
      "metadata": {},
      "outputs": [
        {
          "data": {
            "image/png": "[encoded data removed]",
            "text/plain": [
              "<Figure size 640x480 with 1 Axes>"
            ]
          },
          "metadata": {},
          "output_type": "display_data"
        }
      ],
      "source": [
        "plt.imshow(ds[0][1].squeeze(0))\n",
        "plt.show()"
      ]
    },
    {
      "cell_type": "code",
      "execution_count": 13,
      "metadata": {},
      "outputs": [
        {
          "ename": "NameError",
          "evalue": "name 'ds' is not defined",
          "output_type": "error",
          "traceback": [
            "\u001b[0;31m---------------------------------------------------------------------------\u001b[0m",
            "\u001b[0;31mNameError\u001b[0m                                 Traceback (most recent call last)",
            "Cell \u001b[0;32mIn[13], line 4\u001b[0m\n\u001b[1;32m      1\u001b[0m \u001b[38;5;28;01mfrom\u001b[39;00m \u001b[38;5;21;01mIPython\u001b[39;00m\u001b[38;5;21;01m.\u001b[39;00m\u001b[38;5;21;01mdisplay\u001b[39;00m \u001b[38;5;28;01mimport\u001b[39;00m display, Audio\n\u001b[1;32m      2\u001b[0m \u001b[38;5;28;01mfrom\u001b[39;00m \u001b[38;5;21;01mipywidgets\u001b[39;00m \u001b[38;5;28;01mimport\u001b[39;00m interactive\n\u001b[0;32m----> 4\u001b[0m waveform, mel_spectrogram, label \u001b[38;5;241m=\u001b[39m \u001b[43mds\u001b[49m[\u001b[38;5;241m106\u001b[39m]\n\u001b[1;32m      5\u001b[0m \u001b[38;5;66;03m# waveform, mel_spectrogram, label = ds[]\u001b[39;00m\n\u001b[1;32m      6\u001b[0m visualize_mel_spectrogram(mel_spectrogram, width\u001b[38;5;241m=\u001b[39m\u001b[38;5;241m4\u001b[39m, show_axes\u001b[38;5;241m=\u001b[39m\u001b[38;5;28;01mFalse\u001b[39;00m)\n",
            "\u001b[0;31mNameError\u001b[0m: name 'ds' is not defined"
          ]
        }
      ],
      "source": [
        "from IPython.display import display, Audio\n",
        "from ipywidgets import interactive\n",
        "\n",
        "waveform, mel_spectrogram, label = ds[106]\n",
        "# waveform, mel_spectrogram, label = ds[]\n",
        "visualize_mel_spectrogram(mel_spectrogram, width=4, show_axes=False)\n",
        "visualize_waveform(waveform, references_sample_rate, width=4, show_axes=False)\n",
        "print(f\"Genre: {genres[label]}\")\n",
        "\n",
        "display(Audio(waveform, rate=references_sample_rate))"
      ]
    },
    {
      "cell_type": "markdown",
      "metadata": {},
      "source": [
        "# MTG Dataset"
      ]
    },
    {
      "cell_type": "code",
      "execution_count": 13,
      "metadata": {},
      "outputs": [],
      "source": [
        "# Clone the github if it is not present\n",
        "mtg_github_path = Path('mtg_github')\n",
        "if not mtg_github_path.exists():\n",
        "    !git clone https://github.com/MTG/mtg-jamendo-dataset.git mtg_github"
      ]
    },
    {
      "cell_type": "code",
      "execution_count": 14,
      "metadata": {},
      "outputs": [],
      "source": [
        "# Load the mtg dataset\n",
        "mtg_path = Path('') / 'mtg'\n",
        "mtg_path.mkdir(exist_ok=True)\n",
        "\n",
        "num_folders = 21"
      ]
    },
    {
      "cell_type": "code",
      "execution_count": 15,
      "metadata": {},
      "outputs": [],
      "source": [
        "# Modified from the mtg github scripts/download.py\n",
        "\n",
        "import os\n",
        "import csv\n",
        "import requests\n",
        "import tempfile\n",
        "import shutil\n",
        "import hashlib\n",
        "import tarfile\n",
        "import sys\n",
        "from tqdm import tqdm\n",
        "\n",
        "\n",
        "mtg_base_path = mtg_github_path\n",
        "ID_FILE_PATH = (mtg_base_path / \"data/download/\").resolve()\n",
        "\n",
        "download_from_names = {'gdrive': 'GDrive', 'mtg': 'MTG', 'mtg-fast': 'MTG Fast mirror'}\n",
        "\n",
        "CHUNK_SIZE = 512 * 1024  # 512KB\n",
        "\n",
        "\n",
        "def compute_sha256(filename):\n",
        "    with open(filename, 'rb') as f:\n",
        "        contents = f.read()\n",
        "        checksum = hashlib.sha256(contents).hexdigest()\n",
        "        return checksum\n",
        "\n",
        "\n",
        "def download_from_mtg(url, output):\n",
        "    output_path = Path(output)\n",
        "\n",
        "    print('Downloading...', file=sys.stderr)\n",
        "    print('From:', url, file=sys.stderr)\n",
        "    print('To:', output_path, file=sys.stderr)\n",
        "\n",
        "    res = requests.get(url, stream=True)\n",
        "\n",
        "    try:\n",
        "        total = res.headers.get('Content-Length')\n",
        "        if total is not None:\n",
        "            total = int(total)\n",
        "        with tempfile.NamedTemporaryFile(\n",
        "            prefix=output_path.name,\n",
        "            dir=output_path.parent,\n",
        "            delete=False,\n",
        "        ) as tmp_file_d:\n",
        "            tmp_file = tmp_file_d.name\n",
        "            with tqdm(total=total, unit='B', unit_scale=True) as progressbar:\n",
        "                for chunk in res.iter_content(chunk_size=CHUNK_SIZE):\n",
        "                    tmp_file_d.write(chunk)\n",
        "                    progressbar.update(len(chunk))\n",
        "        shutil.move(tmp_file_d.name, output)\n",
        "    finally:\n",
        "        try:\n",
        "            os.remove(tmp_file)\n",
        "        except OSError:\n",
        "            pass\n",
        "\n",
        "    return output\n",
        "\n",
        "\n",
        "def download(dataset, data_type, download_from, output_dir, unpack_tars, remove_tars, tar_limit=None):\n",
        "    if not os.path.exists(output_dir):\n",
        "        print('Output directory {} does not exist'.format(output_dir), file=sys.stderr)\n",
        "        return\n",
        "    # Get the number of folders already in the output directory.\n",
        "    output_dir = Path(output_dir)\n",
        "    existing_folders = [f for f in output_dir.iterdir() if f.is_dir()]\n",
        "    num_folders = len(existing_folders)\n",
        "\n",
        "    if download_from not in download_from_names:\n",
        "        print(\"Unknown --from argument, choices are {}\".format(list(download_from_names.keys())), file=sys.stderr)\n",
        "        return\n",
        "\n",
        "    print('Downloading %s from %s' % (dataset, download_from_names[download_from]))\n",
        "    file_gids = os.path.join(ID_FILE_PATH, dataset + '_' + data_type + '_gids.txt')\n",
        "    file_sha256_tars = os.path.join(ID_FILE_PATH, dataset + '_' + data_type + '_sha256_tars.txt')\n",
        "    file_sha256_tracks = os.path.join(ID_FILE_PATH, dataset + '_' + data_type + '_sha256_tracks.txt')\n",
        "\n",
        "    # Read checksum values for tars and files inside.\n",
        "    with open(file_sha256_tars) as f:\n",
        "        sha256_tars = dict([(row[1], row[0]) for row in csv.reader(f, delimiter=' ')])\n",
        "\n",
        "    with open(file_sha256_tracks) as f:\n",
        "        sha256_tracks = dict([(row[1], row[0]) for row in csv.reader(f, delimiter=' ')])\n",
        "\n",
        "    # Filenames to download.\n",
        "    ids = sha256_tars.keys()\n",
        "\n",
        "    # Google IDs to download.\n",
        "    if download_from == 'gdrive':\n",
        "        gids = {}\n",
        "        with open(file_gids, 'r') as f:\n",
        "            for line in f:\n",
        "                id, filename = line.split(('   '))[:2]\n",
        "                gids[filename] = id\n",
        "\n",
        "    removed = []\n",
        "    ids = list(ids)[:tar_limit] if tar_limit else list(ids)\n",
        "    ids = ids[num_folders:]\n",
        "    for filename in ids:\n",
        "        output = os.path.join(output_dir, filename)\n",
        "\n",
        "        # Download from Google Drive.\n",
        "        if os.path.exists(output):\n",
        "            print('Skipping %s (file already exists)' % output)\n",
        "            continue\n",
        "\n",
        "        if download_from == 'gdrive':\n",
        "            url = 'https://drive.google.com/uc?id=%s' % gids[filename]\n",
        "            gdown.download(url, output, quiet=False)\n",
        "\n",
        "        elif download_from == 'mtg':\n",
        "            url = 'https://essentia.upf.edu/documentation/datasets/mtg-jamendo/' \\\n",
        "                  '%s/%s/%s' % (dataset, data_type, filename)\n",
        "            download_from_mtg(url, output)\n",
        "\n",
        "        elif download_from == 'mtg-fast':\n",
        "            url = 'https://cdn.freesound.org/mtg-jamendo/' \\\n",
        "                  '%s/%s/%s' % (dataset, data_type, filename)\n",
        "            download_from_mtg(url, output)\n",
        "\n",
        "        # Validate the checksum.\n",
        "        if compute_sha256(output) != sha256_tars[filename]:\n",
        "            print('%s does not match the checksum, removing the file' % output, file=sys.stderr)\n",
        "            removed.append(filename)\n",
        "            os.remove(output)\n",
        "        else:\n",
        "            print('%s checksum OK' % filename)\n",
        "\n",
        "    if removed:\n",
        "        print('Missing files:', ' '.join(removed))\n",
        "        print('Re-run the script again')\n",
        "        return\n",
        "\n",
        "    print('Download complete')\n",
        "\n",
        "    if unpack_tars:\n",
        "        print('Unpacking tar archives')\n",
        "\n",
        "        tracks_checked = []\n",
        "        for filename in ids:\n",
        "            output = os.path.join(output_dir, filename)\n",
        "            print('Unpacking', output)\n",
        "            tar = tarfile.open(output)\n",
        "            tracks = tar.getnames()[1:]  # The first element is folder name.\n",
        "            tar.extractall(path=output_dir)\n",
        "            tar.close()\n",
        "\n",
        "            # Validate checksums for all unpacked files\n",
        "            for track in tracks:\n",
        "                trackname = os.path.join(output_dir, track)\n",
        "                if compute_sha256(trackname) != sha256_tracks[track]:\n",
        "                    print('%s does not match the checksum' % trackname, file=sys.stderr)\n",
        "                    raise Exception('Corrupt file in the dataset: %s' % trackname)\n",
        "\n",
        "            print('%s track checksums OK' % filename)\n",
        "            tracks_checked += tracks\n",
        "\n",
        "            if remove_tars:\n",
        "                os.remove(output)\n",
        "\n",
        "        print('Unpacking complete')"
      ]
    },
    {
      "cell_type": "code",
      "execution_count": 19,
      "metadata": {},
      "outputs": [
        {
          "name": "stdout",
          "output_type": "stream",
          "text": [
            "Downloading raw_30s from MTG Fast mirror\n",
            "Download complete\n",
            "Unpacking tar archives\n",
            "Unpacking complete\n"
          ]
        }
      ],
      "source": [
        "download('raw_30s', 'audio-low', 'mtg-fast', mtg_path, unpack_tars=True, remove_tars=True, tar_limit=num_folders)"
      ]
    },
    {
      "cell_type": "code",
      "execution_count": 20,
      "metadata": {},
      "outputs": [
        {
          "name": "stdout",
          "output_type": "stream",
          "text": [
            "Downloading raw_30s from MTG Fast mirror\n",
            "Download complete\n",
            "Unpacking tar archives\n",
            "Unpacking complete\n"
          ]
        }
      ],
      "source": [
        "# download('raw_30s', 'melspecs', 'mtg-fast', mtg_melspecs_path, unpack_tars=True, remove_tars=True, tar_limit=1)"
      ]
    },
    {
      "cell_type": "code",
      "execution_count": 17,
      "metadata": {},
      "outputs": [
        {
          "name": "stdout",
          "output_type": "stream",
          "text": [
            "Dataset size: 114250\n"
          ]
        }
      ],
      "source": [
        "mtg_mel_path = mtg_path = Path('') / 'mtg_mel'\n",
        "mtg_dataset = MTG_Mel_ContrastiveDataset(mtg_mel_path, references_sample_rate, mask_prob=0)\n",
        "print(f\"Dataset size: {len(mtg_dataset)}\")"
      ]
    },
    {
      "cell_type": "markdown",
      "metadata": {},
      "source": [
        "# High Level Classifier Training Loop\n",
        "\n",
        "This loop is used for training all convolutional and mlp classifiers so we keep it separated."
      ]
    },
    {
      "cell_type": "code",
      "execution_count": 18,
      "metadata": {
        "id": "r1_B8wsz4F7w"
      },
      "outputs": [],
      "source": [
        "def train_base_gtzan_classifier(model, train_loader, val_loader, epochs, learning_rate, output_dir: Path):\n",
        "    np.random.seed(SEED)\n",
        "    torch.manual_seed(SEED)\n",
        "\n",
        "    criterion = nn.CrossEntropyLoss()\n",
        "    optimizer = torch.optim.Adam(model.parameters(), lr=learning_rate)\n",
        "    scheduler = torch.optim.lr_scheduler.OneCycleLR(optimizer, max_lr=learning_rate, steps_per_epoch=len(train_loader), epochs=epochs)\n",
        "\n",
        "    t_loss_history = []\n",
        "    v_loss_history = []\n",
        "    v_acc_history = []\n",
        "\n",
        "    step = 0\n",
        "    best_val_loss = float('inf')\n",
        "    for epoch in range(epochs):\n",
        "        model.train()\n",
        "\n",
        "        for (waveform, mel_spectrogram, label) in tqdm(train_loader):\n",
        "            mel_spectrogram = mel_spectrogram.to(device)\n",
        "            label = label.to(device)\n",
        "\n",
        "            optimizer.zero_grad()\n",
        "            output = model(mel_spectrogram)\n",
        "            loss = criterion(output, label)\n",
        "            t_loss_history.append((step, loss.item()))\n",
        "            loss.backward()\n",
        "            optimizer.step()\n",
        "            scheduler.step()\n",
        "            step += 1\n",
        "\n",
        "        model.eval()\n",
        "\n",
        "        with torch.no_grad():\n",
        "            val_losses = []\n",
        "            val_accuracies = []\n",
        "            for (waveform, mel_spectrogram, label) in val_loader:\n",
        "                mel_spectrogram = mel_spectrogram.to(device)\n",
        "                label = label.to(device)\n",
        "\n",
        "                output = model(mel_spectrogram)\n",
        "                val_loss = criterion(output, label)\n",
        "                val_losses.append(val_loss.item())\n",
        "                val_acc = (output.argmax(dim=1) == label).float().mean()\n",
        "                val_accuracies.append(val_acc.item())\n",
        "\n",
        "            val_loss = torch.tensor(val_losses).mean()\n",
        "            v_loss_history.append((step, val_loss.item()))\n",
        "            val_acc = torch.tensor(val_accuracies).mean()\n",
        "            v_acc_history.append((step, val_acc.item()))\n",
        "\n",
        "            if val_loss < best_val_loss:\n",
        "                best_val_loss = val_loss\n",
        "                torch.save(model.state_dict(), output_dir / 'best.pth')\n",
        "\n",
        "        print(f\"Epoch {epoch+1}/{epochs} | Train Loss: {loss.item():.4f} | Val Loss: {val_loss.item():.4f} | Val Acc: {val_acc.item():.4f}\")\n",
        "\n",
        "    return t_loss_history, v_loss_history, v_acc_history"
      ]
    },
    {
      "cell_type": "markdown",
      "metadata": {
        "id": "ptXIocmgAzVc"
      },
      "source": [
        "# Deep Convolutional Classifier\n",
        "This section defines the model and training loop for the deep architecture. It is trained end to end on the GTZAN dataset with no input from the MTG dataset."
      ]
    },
    {
      "cell_type": "code",
      "execution_count": 23,
      "metadata": {
        "colab": {
          "base_uri": "https://localhost:8080/",
          "height": 1000
        },
        "id": "eeKTUADK9Ekz",
        "outputId": "2206cff1-0d82-462e-8ae8-f23a8c434868"
      },
      "outputs": [
        {
          "name": "stderr",
          "output_type": "stream",
          "text": [
            "UsageError: Cell magic `%%skip` not found.\n"
          ]
        }
      ],
      "source": [
        "%%skip\n",
        "\n",
        "np.random.seed(SEED)\n",
        "torch.manual_seed(SEED)\n",
        "\n",
        "# Create a figure for the losses\n",
        "loss_fig, loss_axs = plt.subplots(1, 1, figsize=(10, 5))\n",
        "\n",
        "# Create a figure for the accuracies\n",
        "acc_fig, acc_axs = plt.subplots(1, 1, figsize=(10, 5))\n",
        "\n",
        "t_loss_collection = []\n",
        "v_loss_collection = []\n",
        "v_acc_collection = []\n",
        "print(\"Training base GTZAN classifier\")\n",
        "overwriting_cnn = False\n",
        "for train_dataset, val_dataset in gtzan_generate_folds(audio_tensors, genres, references_sample_rate, mask_prob=0.8):\n",
        "    train_loader = DataLoader(train_dataset, batch_size=32, shuffle=True)\n",
        "    val_loader = DataLoader(val_dataset, batch_size=32, shuffle=False)\n",
        "    base_gtzan_model = GTZANModel(len(audio_tensors))\n",
        "    base_gtzan_model = base_gtzan_model.to(device)\n",
        "\n",
        "    fold_output_dir = deep_base_output_dir / f'fold_{len(t_loss_collection)}'\n",
        "    fold_output_dir.mkdir(exist_ok=True)\n",
        "\n",
        "    model_exists = (fold_output_dir / 'best.pth').exists()\n",
        "    if model_exists and not overwriting_cnn:\n",
        "        res = input(\"CNN model exists. Enter y to overwrite: \")\n",
        "        if res.lower() != 'y':\n",
        "            raise Exception(\"Model exists\")\n",
        "        else:\n",
        "            overwriting_cnn = True\n",
        "\n",
        "\n",
        "    t_loss, v_loss, v_acc = train_base_gtzan_classifier(base_gtzan_model, train_loader, val_loader, epochs=100, learning_rate=0.001, output_dir=fold_output_dir)\n",
        "    t_loss_collection.append(t_loss)\n",
        "    v_loss_collection.append(v_loss)\n",
        "    v_acc_collection.append(v_acc)\n",
        "    loss_axs.plot(*zip(*t_loss), label=f'Training Loss - Fold {len(t_loss_collection)}')\n",
        "    loss_axs.plot(*zip(*v_loss), label=f'Validation Loss - Fold {len(v_loss_collection)}')\n",
        "    acc_axs.plot(*zip(*v_acc), label=f'Validation Accuracy - Fold {len(v_acc_collection)}')\n",
        "\n",
        "loss_axs.legend()\n",
        "acc_axs.legend()\n",
        "\n",
        "best_val_acc = max(v_acc, key=lambda x: x[1])[1]\n",
        "print(f\"Best validation accuracy: {best_val_acc:.4f}\")\n",
        "\n",
        "plt.show()"
      ]
    },
    {
      "cell_type": "code",
      "execution_count": null,
      "metadata": {
        "id": "rvfY-vAkIaX2"
      },
      "outputs": [],
      "source": [
        "%%skip\n",
        "t_loss_collection_np = np.array([list(zip(*t_loss))[1] for t_loss in t_loss_collection])\n",
        "avg_t_loss_np = np.mean(t_loss_collection_np, axis=0)\n",
        "max_t_loss_np = np.max(t_loss_collection_np, axis=0)\n",
        "min_t_loss_np = np.min(t_loss_collection_np, axis=0)\n",
        "t_xs = np.arange(len(avg_t_loss_np))\n",
        "\n",
        "v_loss_collection_np = np.array([list(zip(*v_loss))[1] for v_loss in v_loss_collection])\n",
        "avg_v_loss_np = np.mean(v_loss_collection_np, axis=0)\n",
        "max_v_loss_np = np.max(v_loss_collection_np, axis=0)\n",
        "min_v_loss_np = np.min(v_loss_collection_np, axis=0)\n",
        "v_xs = np.array(list(zip(*v_loss_collection[0]))[0])"
      ]
    },
    {
      "cell_type": "code",
      "execution_count": null,
      "metadata": {
        "colab": {
          "base_uri": "https://localhost:8080/",
          "height": 465
        },
        "id": "oJrAOiPFy5jm",
        "outputId": "93c4dab0-0379-4dff-b8a1-9d4af1d98438"
      },
      "outputs": [],
      "source": [
        "%%skip\n",
        "# Plot the max, min, and average training losses\n",
        "avg_loss_fig, avg_loss_axs = plt.subplots(1, 1, figsize=(10, 5))\n",
        "avg_loss_axs.plot(avg_t_loss_np, label='Average Training Loss')\n",
        "avg_loss_axs.fill_between(t_xs, min_t_loss_np, max_t_loss_np, alpha=0.2)\n",
        "\n",
        "avg_loss_axs.plot(v_xs, avg_v_loss_np, label='Average Validation Loss')\n",
        "avg_loss_axs.fill_between(v_xs, min_v_loss_np, max_v_loss_np, alpha=0.2)\n",
        "\n",
        "avg_loss_axs.legend()\n",
        "avg_loss_axs.set_xlabel('Step')\n",
        "avg_loss_axs.set_ylabel('Cross Entropy Loss')\n",
        "plt.show()\n"
      ]
    },
    {
      "cell_type": "code",
      "execution_count": null,
      "metadata": {
        "id": "8w-_x80ny7E8"
      },
      "outputs": [],
      "source": [
        "%%skip\n",
        "v_acc_collection_np = np.array([list(zip(*v_acc))[1] for v_acc in v_acc_collection])\n",
        "avg_v_acc_np = np.mean(v_acc_collection_np, axis=0)\n",
        "max_v_acc_np = np.max(v_acc_collection_np, axis=0)\n",
        "min_v_acc_np = np.min(v_acc_collection_np, axis=0)"
      ]
    },
    {
      "cell_type": "code",
      "execution_count": null,
      "metadata": {
        "colab": {
          "base_uri": "https://localhost:8080/",
          "height": 486
        },
        "id": "e6Cx1RXo0Ayr",
        "outputId": "f973eb73-e373-4d54-d4ca-f1ab4498d0ab"
      },
      "outputs": [],
      "source": [
        "%%skip\n",
        "avg_acc_fig, avg_acc_axs = plt.subplots(1, 1, figsize=(10, 5))\n",
        "avg_acc_axs.plot(v_xs, avg_v_acc_np, label='Average Validation Accuracy')\n",
        "avg_acc_axs.fill_between(v_xs, min_v_acc_np, max_v_acc_np, alpha=0.2)\n",
        "avg_acc_axs.legend()\n",
        "avg_acc_axs.set_xlabel('Step')\n",
        "avg_acc_axs.set_ylabel('Accuracy')\n",
        "plt.show()"
      ]
    },
    {
      "cell_type": "code",
      "execution_count": null,
      "metadata": {
        "colab": {
          "base_uri": "https://localhost:8080/"
        },
        "id": "UsRQ-ZKr0FpN",
        "outputId": "d5a689eb-20ee-4a7b-f1c4-e11ebf7c92d5"
      },
      "outputs": [],
      "source": [
        "%%skip\n",
        "avg_deep_acc = avg_v_acc_np[-1]\n",
        "std_deep_acc = np.std(v_acc_collection_np, axis=0)[-1]\n",
        "print(f\"Average validation accuracy over folds: {avg_deep_acc:.4f} +/- {std_deep_acc:.4f}\")"
      ]
    },
    {
      "cell_type": "markdown",
      "metadata": {},
      "source": [
        "# Contrastive Pretraining\n",
        "This section defines the model and training loop for the contrastive pretraining. The contrastive model is trained entirely on the MTG dataset with no input from GTZAN. It then defines two MLP models that take in outputs of the contrastive model to classify the genre which are both trained on the GTZAN dataset. The first takes unnormalized embeddings from the contrastive model. However, in contrastive learning, the contrastive space has a reduced dimension due to the contrastive loss being more effective in lower dimensions. For use in downstream models, it is often suggested to use the previous layer before we project into the contrastive space, the logits. Therefore, we train a second MLP to use these logits to classify the genre."
      ]
    },
    {
      "cell_type": "code",
      "execution_count": 18,
      "metadata": {},
      "outputs": [
        {
          "name": "stderr",
          "output_type": "stream",
          "text": [
            "UsageError: Line magic function `%%script` not found.\n"
          ]
        }
      ],
      "source": [
        "%%skip\n",
        "%%script echo \"Skipping\"\n",
        "\n",
        "import time\n",
        "from IPython.display import display, Audio\n",
        "mtg_ds = MTGContrastiveDataset(\n",
        "    mtg_path,\n",
        "    references_sample_rate,\n",
        "    mask_prob=0.8, samples_per_file=30, folder_whitelist=['00', '01', '02', '03'], max_files=1100, concurrent_files=32\n",
        ")\n",
        "# Take a test sample\n",
        "print(f\"Dataset size: {len(mtg_ds)} (From {len(mtg_ds.all_files)} files)\")\n",
        "count = 0\n",
        "for (wf1, wf2), (mel1, mel2), _ in mtg_ds:\n",
        "    if count < 4:\n",
        "        start_time = time.time() if count == 0 else start_time\n",
        "        print(f\"Audio {count}\")\n",
        "        # visualize_mel_spectrogram(mel1, width=4, show_axes=False)\n",
        "        # visualize_mel_spectrogram(mel2, width=4, show_axes=False)\n",
        "        # Play the audio\n",
        "        display(Audio(wf1, rate=references_sample_rate))\n",
        "        display(Audio(wf2, rate=references_sample_rate))\n",
        "        full_wf = torch.cat((wf1, wf2), dim=1)\n",
        "        display(Audio(full_wf, rate=references_sample_rate))\n",
        "    if count > 1000:\n",
        "        end_time = time.time()\n",
        "        break\n",
        "    count += 1\n",
        "print(f\"Time Per Sample: {(end_time - start_time) / (count-1):.4f}\")\n",
        "\n",
        "# Run the test again with a dataloader with n workers\n",
        "from torch.utils.data import DataLoader\n",
        "mtg_dl = DataLoader(mtg_ds, batch_size=32, num_workers=2, prefetch_factor=4, worker_init_fn=worker_init_fn)\n",
        "count = 0\n",
        "for (wf1, wf2), (mel1, mel2), _ in mtg_dl:\n",
        "    if count == 0:\n",
        "        start_time = time.time() if count == 0 else start_time\n",
        "        for i in range(10):\n",
        "            # Play the audio\n",
        "            print(f\"Audio {count+i}\")\n",
        "            display(Audio(wf1[i], rate=references_sample_rate))\n",
        "            display(Audio(wf2[i], rate=references_sample_rate))\n",
        "            full_wf = torch.cat((wf1[i], wf2[i]), dim=1)\n",
        "            display(Audio(full_wf, rate=references_sample_rate))\n",
        "    if count > 5000:\n",
        "        end_time = time.time()\n",
        "        break\n",
        "    count += mel1.shape[0]\n",
        "    print(f\"Count: {count}\")\n",
        "print(f\"Time Per Sample: {(end_time - start_time) / (count-1):.4f}\")"
      ]
    },
    {
      "cell_type": "code",
      "execution_count": 43,
      "metadata": {},
      "outputs": [],
      "source": [
        "def get_model_name(model_name, lr, batch_size):\n",
        "    return f\"{model_name}_LR({lr})_BS({batch_size})\""
      ]
    },
    {
      "cell_type": "code",
      "execution_count": 41,
      "metadata": {},
      "outputs": [],
      "source": [
        "# %%skip\n",
        "def train_contrastive_model(model, train_loader, val_loader, epochs, lr, batch_size, criterion, output_dir: Path, t_loss_history=None, v_loss_history=None, checkpoint_file=None, device = None):\n",
        "    np.random.seed(SEED)\n",
        "    torch.manual_seed(SEED)\n",
        "\n",
        "    criterion = criterion\n",
        "    optimizer = torch.optim.Adam(model.parameters(), lr=lr)\n",
        "    scheduler = torch.optim.lr_scheduler.OneCycleLR(optimizer, max_lr=lr, steps_per_epoch=len(train_loader), epochs=epochs)\n",
        "\n",
        "    t_loss_history = [] if t_loss_history is None else t_loss_history\n",
        "    v_loss_history = [] if v_loss_history is None else v_loss_history\n",
        "\n",
        "    step = 0\n",
        "    best_val_loss = np.inf\n",
        "\n",
        "    if checkpoint_file is not None:\n",
        "        print(f\"Recovering model from {checkpoint_file}\")\n",
        "        checkpoint = torch.load(checkpoint_file)\n",
        "        model.load_state_dict(checkpoint[\"model\"])\n",
        "        optimizer.load_state_dict(checkpoint[\"optimizer\"])\n",
        "        scheduler.load_state_dict(checkpoint[\"scheduler\"])\n",
        "        step = checkpoint[\"step\"]\n",
        "        best_val_loss = checkpoint[\"best_val_loss\"]\n",
        "        recovered_epoch = checkpoint[\"epoch\"]\n",
        "        recovered_t_loss_history = checkpoint[\"t_loss_history\"]\n",
        "        recovered_v_loss_history = checkpoint[\"v_loss_history\"]\n",
        "\n",
        "        print(f\"Recovered model from epoch {recovered_epoch} with best val loss {best_val_loss:.4f}\")\n",
        "\n",
        "        # Copy the recovered loss histories into the current ones\n",
        "        t_loss_history.extend(recovered_t_loss_history)\n",
        "        v_loss_history.extend(recovered_v_loss_history)\n",
        "    else:\n",
        "        recovered_epoch = 0\n",
        "\n",
        "    for epoch in range(recovered_epoch, epochs):\n",
        "        model.train()\n",
        "\n",
        "        train_losses = []\n",
        "        for (waveform1, waveform2), (mel_spectrogram1, mel_spectrogram2), label in tqdm(train_loader):\n",
        "            \n",
        "            mel_spectrogram1 = mel_spectrogram1.to(device)\n",
        "            mel_spectrogram2 = mel_spectrogram2.to(device)\n",
        "            mel_spectrogram = [mel_spectrogram1, mel_spectrogram2]\n",
        "            # Stack the spectrograms along the batch dimension\n",
        "            # mel_spectrogram = torch.cat([mel_spectrogram1, mel_spectrogram2], dim=0)\n",
        "\n",
        "            # print(mel_spectrogram.shape)\n",
        "\n",
        "            optimizer.zero_grad()\n",
        "            output = model(mel_spectrogram)\n",
        "\n",
        "            # Split the output into the original batches\n",
        "            # output1, output2 = torch.split(output, output.shape[0] // 2, dim=0)\n",
        "\n",
        "            loss = criterion(output)\n",
        "            t_loss_history.append((step, loss.item()))\n",
        "            train_losses.append(loss.item())\n",
        "            loss.backward()\n",
        "            optimizer.step()\n",
        "            scheduler.step()\n",
        "            step += 1\n",
        "        avg_train_loss = torch.tensor(train_losses).mean()\n",
        "\n",
        "        model.eval()\n",
        "        print(f\"Epoch {epoch+1}/{epochs} | Train Loss: {avg_train_loss.item():.4f}\")\n",
        "        with torch.no_grad():\n",
        "            val_losses = []\n",
        "            val_accuracies = []\n",
        "            for (waveform1, waveform2), (mel_spectrogram1, mel_spectrogram2), label in tqdm(val_loader):\n",
        "                mel_spectrogram1 = mel_spectrogram1.to(device)\n",
        "                mel_spectrogram2 = mel_spectrogram2.to(device)\n",
        "                mel_spectrogram = [mel_spectrogram1, mel_spectrogram2]\n",
        "                \n",
        "                output = model(mel_spectrogram)\n",
        "\n",
        "                # output1, output2 = torch.split(output, output.shape[0] // 2, dim=0)\n",
        "                val_loss = criterion(output)\n",
        "                val_losses.append(val_loss.item())\n",
        "\n",
        "            val_loss = torch.tensor(val_losses).mean()\n",
        "            v_loss_history.append((step, val_loss.item()))\n",
        "\n",
        "            if val_loss < best_val_loss:\n",
        "                best_val_loss = val_loss\n",
        "                torch.save(model.state_dict(), output_dir / f\"{get_model_name(model.name, lr, batch_size)}_best.pth\")\n",
        "\n",
        "            # Save the latest model\n",
        "            save_data = {\n",
        "                \"model\": model.state_dict(),\n",
        "                \"optimizer\": optimizer.state_dict(),\n",
        "                \"scheduler\": scheduler.state_dict(),\n",
        "                \"step\": step,\n",
        "                \"epoch\": epoch + 1,\n",
        "                \"best_val_loss\": best_val_loss,\n",
        "                \"t_loss_history\": t_loss_history,\n",
        "                \"v_loss_history\": v_loss_history\n",
        "            }\n",
        "            torch.save(save_data, output_dir / f\"{get_model_name(model.name, lr, batch_size)}_latest_checkpoint.pth\")\n",
        "        \n",
        "        print(f\"Epoch {epoch+1}/{epochs} | Train Loss: {avg_train_loss.item():.4f} | Val Loss: {val_loss.item():.4f}\")\n",
        "\n",
        "    return t_loss_history, v_loss_history\n",
        "\n",
        "            "
      ]
    },
    {
      "cell_type": "code",
      "execution_count": null,
      "metadata": {},
      "outputs": [],
      "source": [
        "# %%skip\n",
        "np.random.seed(SEED)\n",
        "torch.manual_seed(SEED)\n",
        "\n",
        "batch_size = 64\n",
        "\n",
        "# Using the MTG Dataset\n",
        "train_folders = [\n",
        "    \"00\", \"01\", \"02\", \"03\",\n",
        "    \"04\", \"05\", \"06\", \"07\",\n",
        "    \"08\", \"09\", \"10\", \"11\",\n",
        "    \"12\", \"13\", \"14\", \"15\",\n",
        "    \"16\", \"17\", \"18\", \"19\"\n",
        "]\n",
        "val_folders = [\n",
        "    \"20\"\n",
        "]\n",
        "mtg_train_dataset = MTGContrastiveDataset(mtg_path, references_sample_rate, mask_prob=0.8, samples_per_file=15, folder_whitelist=train_folders, concurrent_files=batch_size)\n",
        "mtg_val_dataset = MTGContrastiveDataset(mtg_path, references_sample_rate, mask_prob=0.8, samples_per_file=15, folder_whitelist=val_folders, max_files=2*batch_size, concurrent_files=batch_size)\n",
        "\n",
        "train_loader = DataLoader(mtg_train_dataset, batch_size=batch_size, shuffle=False, num_workers=4, prefetch_factor=2)\n",
        "val_loader = DataLoader(mtg_val_dataset, batch_size=batch_size, shuffle=False)\n",
        "\n",
        "contrastive_embedder_model = GTZANContrastiveModelLarge(128)\n",
        "contrastive_embedder_model = contrastive_embedder_model.to(device)\n",
        "\n",
        "USE_LATEST_CHECKPOINT = True\n",
        "checkpoint_file = contrastive_output_dir / 'latest_checkpoint.pth' if USE_LATEST_CHECKPOINT else None\n",
        "if checkpoint_file is not None and not checkpoint_file.exists():\n",
        "    print(f\"Checkpoint file {checkpoint_file} not found, starting with a fresh model\")\n",
        "    checkpoint_file = None\n",
        "else:\n",
        "    print(f\"Recovering model from {checkpoint_file}\")\n",
        "\n",
        "t_loss, v_loss = [], []\n",
        "_ = train_contrastive_model(\n",
        "    contrastive_embedder_model,\n",
        "    train_loader, val_loader, epochs=25, lr=0.001, batch_size = batch_size, criterion = InfoNCE(),\n",
        "    t_loss_history=t_loss, v_loss_history=v_loss,\n",
        "    output_dir=contrastive_output_dir,\n",
        "    checkpoint_file=checkpoint_file\n",
        ")"
      ]
    },
    {
      "cell_type": "markdown",
      "metadata": {},
      "source": [
        "# Barlow Twins Contrastive Pretraining "
      ]
    },
    {
      "cell_type": "code",
      "execution_count": 19,
      "metadata": {},
      "outputs": [],
      "source": [
        "def print_profile(vars, k):\n",
        "    print(f\"Iteration- {k}\")\n",
        "    for key, value in vars.items():\n",
        "        print(f\"{key}: {value}\")"
      ]
    },
    {
      "cell_type": "code",
      "execution_count": 20,
      "metadata": {},
      "outputs": [],
      "source": [
        "\n",
        "# def train_barlow_contrastive_model(model, train_loader, val_loader, epochs, lr, batch_size, output_dir: Path, t_loss_history=None, v_loss_history=None, checkpoint_file=None, device= 'cpu'):\n",
        "#     np.random.seed(SEED)\n",
        "#     torch.manual_seed(SEED)\n",
        "\n",
        "#     criterion = BarlowTwinsLoss(device)\n",
        "#     optimizer = torch.optim.Adam(model.parameters(), lr=lr)\n",
        "#     scheduler = torch.optim.lr_scheduler.OneCycleLR(optimizer, max_lr=lr, steps_per_epoch=len(train_loader), epochs=epochs)\n",
        "\n",
        "#     t_loss_history = [] if t_loss_history is None else t_loss_history\n",
        "#     v_loss_history = [] if v_loss_history is None else v_loss_history\n",
        "\n",
        "#     step = 0\n",
        "#     best_val_loss = np.inf\n",
        "#     if checkpoint_file is not None:\n",
        "#         print(f\"Recovering model from {checkpoint_file}\")\n",
        "#         checkpoint = torch.load(checkpoint_file)\n",
        "#         model.load_state_dict(checkpoint[\"model\"])\n",
        "#         optimizer.load_state_dict(checkpoint[\"optimizer\"])\n",
        "#         scheduler.load_state_dict(checkpoint[\"scheduler\"])\n",
        "#         step = checkpoint[\"step\"]\n",
        "#         best_val_loss = checkpoint[\"best_val_loss\"]\n",
        "#         recovered_epoch = checkpoint[\"epoch\"]\n",
        "#         recovered_t_loss_history = checkpoint[\"t_loss_history\"]\n",
        "#         recovered_v_loss_history = checkpoint[\"v_loss_history\"]\n",
        "\n",
        "#         print(f\"Recovered model from epoch {recovered_epoch} with best val loss {best_val_loss:.4f}\")\n",
        "\n",
        "#         # Copy the recovered loss histories into the current ones\n",
        "#         t_loss_history.extend(recovered_t_loss_history)\n",
        "#         v_loss_history.extend(recovered_v_loss_history)\n",
        "#     else:\n",
        "#         recovered_epoch = 0\n",
        "\n",
        "#     for epoch in range(recovered_epoch, epochs):\n",
        "#         model.train()\n",
        "#         train_losses = []\n",
        "#         k=1\n",
        "#         for (waveform1, waveform2), (mel_spectrogram1, mel_spectrogram2), label in tqdm(train_loader):\n",
        "#             k = k+1\n",
        "#             mel_spectrogram1 = mel_spectrogram1.to(device)\n",
        "#             mel_spectrogram2 = mel_spectrogram2.to(device)\n",
        "#             # print(mel_spectrogram1.shape, mel_spectrogram2.shape)\n",
        "\n",
        "#             # Stack the spectrograms along the batch dimension\n",
        "#             # mel_spectrogram = torch.cat([mel_spectrogram1, mel_spectrogram2], dim=0)\n",
        "\n",
        "#             optimizer.zero_grad()\n",
        "#             (output1, output2) = model(mel_spectrogram1, mel_spectrogram2)\n",
        "#             # Split the output into the original batches\n",
        "#             # output1, output2 = torch.split(output, output.shape[0] // 2, dim=0)\n",
        "#             loss = criterion(output1, output2)            \n",
        "#             t_loss_history.append((step, loss.item()))\n",
        "#             train_losses.append(loss.item())\n",
        "#             loss.backward()\n",
        "#             optimizer.step()\n",
        "#             scheduler.step()\n",
        "#             step += 1            \n",
        "#         avg_train_loss = torch.tensor(train_losses).mean()\n",
        "\n",
        "#         model.eval()\n",
        "#         print(f\"Epoch {epoch+1}/{epochs} | Train Loss: {avg_train_loss.item():.4f}\")\n",
        "#         with torch.no_grad():\n",
        "#             val_losses = []\n",
        "#             val_accuracies = []\n",
        "#             for (waveform1, waveform2), (mel_spectrogram1, mel_spectrogram2), label in tqdm(val_loader):\n",
        "#                 mel_spectrogram1 = mel_spectrogram1.to(device)\n",
        "#                 mel_spectrogram2 = mel_spectrogram2.to(device)\n",
        "\n",
        "#                 # mel_spectrogram = torch.cat([mel_spectrogram1, mel_spectrogram2], dim=0)\n",
        "#                 (output1, output2) = model(mel_spectrogram1, mel_spectrogram2)\n",
        "\n",
        "#                 # output1, output2 = torch.split(output, output.shape[0] // 2, dim=0)\n",
        "#                 val_loss = criterion(output1, output2)\n",
        "#                 val_losses.append(val_loss.item())\n",
        "\n",
        "#             val_loss = torch.tensor(val_losses).mean()\n",
        "#             v_loss_history.append((step, val_loss.item()))\n",
        "\n",
        "#             if val_loss < best_val_loss:\n",
        "#                 best_val_loss = val_loss\n",
        "#                 torch.save(model.state_dict(), output_dir / f\"{get_model_name(model.name, lr, batch_size)}_best.pth\")\n",
        "\n",
        "#             # Save the latest model\n",
        "#             save_data = {\n",
        "#                 \"model\": model.state_dict(),\n",
        "#                 \"optimizer\": optimizer.state_dict(),\n",
        "#                 \"scheduler\": scheduler.state_dict(),\n",
        "#                 \"step\": step,\n",
        "#                 \"epoch\": epoch + 1,\n",
        "#                 \"best_val_loss\": best_val_loss,\n",
        "#                 \"t_loss_history\": t_loss_history,\n",
        "#                 \"v_loss_history\": v_loss_history\n",
        "#             }\n",
        "#             torch.save(save_data, output_dir / f\"{get_model_name(model.name, lr, batch_size)}_latest_checkpoint.pth\")\n",
        "        \n",
        "#         print(f\"Epoch {epoch+1}/{epochs} | Train Loss: {avg_train_loss.item():.4f} | Val Loss: {val_loss.item():.4f}\")\n",
        "\n",
        "#     return t_loss_history, v_loss_history"
      ]
    },
    {
      "cell_type": "code",
      "execution_count": 45,
      "metadata": {},
      "outputs": [
        {
          "name": "stdout",
          "output_type": "stream",
          "text": [
            "Recovering model from output/barlow_contrastive/BarlowTwinContrastive_CONT_DIM(128)_KS(3)_LR(0.001)_BS(64)_latest_checkpoint.pth\n",
            "Recovering model from output/barlow_contrastive/BarlowTwinContrastive_CONT_DIM(128)_KS(3)_LR(0.001)_BS(64)_latest_checkpoint.pth\n",
            "Recovered model from epoch 1 with best val loss 10.9974\n"
          ]
        },
        {
          "name": "stderr",
          "output_type": "stream",
          "text": [
            "  1%|          | 31/2551 [00:10<13:48,  3.04it/s]\n"
          ]
        },
        {
          "ename": "KeyboardInterrupt",
          "evalue": "",
          "output_type": "error",
          "traceback": [
            "\u001b[0;31m---------------------------------------------------------------------------\u001b[0m",
            "\u001b[0;31mKeyboardInterrupt\u001b[0m                         Traceback (most recent call last)",
            "Cell \u001b[0;32mIn[45], line 39\u001b[0m\n\u001b[1;32m     35\u001b[0m     \u001b[38;5;28mprint\u001b[39m(\u001b[38;5;124mf\u001b[39m\u001b[38;5;124m\"\u001b[39m\u001b[38;5;124mRecovering model from \u001b[39m\u001b[38;5;132;01m{\u001b[39;00mcheckpoint_file\u001b[38;5;132;01m}\u001b[39;00m\u001b[38;5;124m\"\u001b[39m)\n\u001b[1;32m     38\u001b[0m barlow_t_loss, barlow_v_loss \u001b[38;5;241m=\u001b[39m [], []\n\u001b[0;32m---> 39\u001b[0m _ \u001b[38;5;241m=\u001b[39m \u001b[43mtrain_contrastive_model\u001b[49m\u001b[43m(\u001b[49m\n\u001b[1;32m     40\u001b[0m \u001b[43m    \u001b[49m\u001b[43mbarlow_contrastive_embedder_model\u001b[49m\u001b[43m,\u001b[49m\n\u001b[1;32m     41\u001b[0m \u001b[43m    \u001b[49m\u001b[43mtrain_loader\u001b[49m\u001b[43m,\u001b[49m\u001b[43m \u001b[49m\u001b[43mval_loader\u001b[49m\u001b[43m,\u001b[49m\u001b[43m \u001b[49m\u001b[43mepochs\u001b[49m\u001b[38;5;241;43m=\u001b[39;49m\u001b[38;5;241;43m24\u001b[39;49m\u001b[43m,\u001b[49m\u001b[43m \u001b[49m\u001b[43mlr\u001b[49m\u001b[38;5;241;43m=\u001b[39;49m\u001b[43mlearning_rate\u001b[49m\u001b[43m,\u001b[49m\u001b[43m \u001b[49m\u001b[43mbatch_size\u001b[49m\u001b[38;5;241;43m=\u001b[39;49m\u001b[43mbatch_size\u001b[49m\u001b[43m,\u001b[49m\u001b[43m \u001b[49m\u001b[43mcriterion\u001b[49m\u001b[43m \u001b[49m\u001b[38;5;241;43m=\u001b[39;49m\u001b[43m \u001b[49m\u001b[43mBarlowTwinsLoss\u001b[49m\u001b[43m(\u001b[49m\u001b[43mdevice\u001b[49m\u001b[43m)\u001b[49m\u001b[43m,\u001b[49m\n\u001b[1;32m     42\u001b[0m \u001b[43m    \u001b[49m\u001b[43mt_loss_history\u001b[49m\u001b[38;5;241;43m=\u001b[39;49m\u001b[43mbarlow_t_loss\u001b[49m\u001b[43m,\u001b[49m\u001b[43m \u001b[49m\u001b[43mv_loss_history\u001b[49m\u001b[38;5;241;43m=\u001b[39;49m\u001b[43mbarlow_v_loss\u001b[49m\u001b[43m,\u001b[49m\n\u001b[1;32m     43\u001b[0m \u001b[43m    \u001b[49m\u001b[43moutput_dir\u001b[49m\u001b[38;5;241;43m=\u001b[39;49m\u001b[43mbarlow_contrastive_output_dir\u001b[49m\u001b[43m,\u001b[49m\n\u001b[1;32m     44\u001b[0m \u001b[43m    \u001b[49m\u001b[43mcheckpoint_file\u001b[49m\u001b[38;5;241;43m=\u001b[39;49m\u001b[43mcheckpoint_file\u001b[49m\u001b[43m,\u001b[49m\n\u001b[1;32m     45\u001b[0m \u001b[43m    \u001b[49m\u001b[43mdevice\u001b[49m\u001b[43m \u001b[49m\u001b[38;5;241;43m=\u001b[39;49m\u001b[43m \u001b[49m\u001b[43mdevice\u001b[49m\n\u001b[1;32m     46\u001b[0m \u001b[43m)\u001b[49m\n",
            "Cell \u001b[0;32mIn[41], line 56\u001b[0m, in \u001b[0;36mtrain_contrastive_model\u001b[0;34m(model, train_loader, val_loader, epochs, lr, batch_size, criterion, output_dir, t_loss_history, v_loss_history, checkpoint_file, device)\u001b[0m\n\u001b[1;32m     51\u001b[0m output \u001b[38;5;241m=\u001b[39m model(mel_spectrogram)\n\u001b[1;32m     53\u001b[0m \u001b[38;5;66;03m# Split the output into the original batches\u001b[39;00m\n\u001b[1;32m     54\u001b[0m \u001b[38;5;66;03m# output1, output2 = torch.split(output, output.shape[0] // 2, dim=0)\u001b[39;00m\n\u001b[0;32m---> 56\u001b[0m loss \u001b[38;5;241m=\u001b[39m \u001b[43mcriterion\u001b[49m\u001b[43m(\u001b[49m\u001b[43moutput\u001b[49m\u001b[43m)\u001b[49m\n\u001b[1;32m     57\u001b[0m t_loss_history\u001b[38;5;241m.\u001b[39mappend((step, loss\u001b[38;5;241m.\u001b[39mitem()))\n\u001b[1;32m     58\u001b[0m train_losses\u001b[38;5;241m.\u001b[39mappend(loss\u001b[38;5;241m.\u001b[39mitem())\n",
            "File \u001b[0;32m~/workspace/aps360-audio/.venv/lib/python3.12/site-packages/torch/nn/modules/module.py:1532\u001b[0m, in \u001b[0;36mModule._wrapped_call_impl\u001b[0;34m(self, *args, **kwargs)\u001b[0m\n\u001b[1;32m   1530\u001b[0m     \u001b[38;5;28;01mreturn\u001b[39;00m \u001b[38;5;28mself\u001b[39m\u001b[38;5;241m.\u001b[39m_compiled_call_impl(\u001b[38;5;241m*\u001b[39margs, \u001b[38;5;241m*\u001b[39m\u001b[38;5;241m*\u001b[39mkwargs)  \u001b[38;5;66;03m# type: ignore[misc]\u001b[39;00m\n\u001b[1;32m   1531\u001b[0m \u001b[38;5;28;01melse\u001b[39;00m:\n\u001b[0;32m-> 1532\u001b[0m     \u001b[38;5;28;01mreturn\u001b[39;00m \u001b[38;5;28;43mself\u001b[39;49m\u001b[38;5;241;43m.\u001b[39;49m\u001b[43m_call_impl\u001b[49m\u001b[43m(\u001b[49m\u001b[38;5;241;43m*\u001b[39;49m\u001b[43margs\u001b[49m\u001b[43m,\u001b[49m\u001b[43m \u001b[49m\u001b[38;5;241;43m*\u001b[39;49m\u001b[38;5;241;43m*\u001b[39;49m\u001b[43mkwargs\u001b[49m\u001b[43m)\u001b[49m\n",
            "File \u001b[0;32m~/workspace/aps360-audio/.venv/lib/python3.12/site-packages/torch/nn/modules/module.py:1541\u001b[0m, in \u001b[0;36mModule._call_impl\u001b[0;34m(self, *args, **kwargs)\u001b[0m\n\u001b[1;32m   1536\u001b[0m \u001b[38;5;66;03m# If we don't have any hooks, we want to skip the rest of the logic in\u001b[39;00m\n\u001b[1;32m   1537\u001b[0m \u001b[38;5;66;03m# this function, and just call forward.\u001b[39;00m\n\u001b[1;32m   1538\u001b[0m \u001b[38;5;28;01mif\u001b[39;00m \u001b[38;5;129;01mnot\u001b[39;00m (\u001b[38;5;28mself\u001b[39m\u001b[38;5;241m.\u001b[39m_backward_hooks \u001b[38;5;129;01mor\u001b[39;00m \u001b[38;5;28mself\u001b[39m\u001b[38;5;241m.\u001b[39m_backward_pre_hooks \u001b[38;5;129;01mor\u001b[39;00m \u001b[38;5;28mself\u001b[39m\u001b[38;5;241m.\u001b[39m_forward_hooks \u001b[38;5;129;01mor\u001b[39;00m \u001b[38;5;28mself\u001b[39m\u001b[38;5;241m.\u001b[39m_forward_pre_hooks\n\u001b[1;32m   1539\u001b[0m         \u001b[38;5;129;01mor\u001b[39;00m _global_backward_pre_hooks \u001b[38;5;129;01mor\u001b[39;00m _global_backward_hooks\n\u001b[1;32m   1540\u001b[0m         \u001b[38;5;129;01mor\u001b[39;00m _global_forward_hooks \u001b[38;5;129;01mor\u001b[39;00m _global_forward_pre_hooks):\n\u001b[0;32m-> 1541\u001b[0m     \u001b[38;5;28;01mreturn\u001b[39;00m \u001b[43mforward_call\u001b[49m\u001b[43m(\u001b[49m\u001b[38;5;241;43m*\u001b[39;49m\u001b[43margs\u001b[49m\u001b[43m,\u001b[49m\u001b[43m \u001b[49m\u001b[38;5;241;43m*\u001b[39;49m\u001b[38;5;241;43m*\u001b[39;49m\u001b[43mkwargs\u001b[49m\u001b[43m)\u001b[49m\n\u001b[1;32m   1543\u001b[0m \u001b[38;5;28;01mtry\u001b[39;00m:\n\u001b[1;32m   1544\u001b[0m     result \u001b[38;5;241m=\u001b[39m \u001b[38;5;28;01mNone\u001b[39;00m\n",
            "File \u001b[0;32m~/workspace/aps360-audio/barlow_twin_loss.py:26\u001b[0m, in \u001b[0;36mBarlowTwinsLoss.forward\u001b[0;34m(self, z)\u001b[0m\n\u001b[1;32m     24\u001b[0m \u001b[38;5;66;03m# multiply off-diagonal elems of c_diff by lambda\u001b[39;00m\n\u001b[1;32m     25\u001b[0m c_diff[\u001b[38;5;241m~\u001b[39mtorch\u001b[38;5;241m.\u001b[39meye(D, dtype\u001b[38;5;241m=\u001b[39m\u001b[38;5;28mbool\u001b[39m)] \u001b[38;5;241m*\u001b[39m\u001b[38;5;241m=\u001b[39m \u001b[38;5;28mself\u001b[39m\u001b[38;5;241m.\u001b[39mlambda_param\n\u001b[0;32m---> 26\u001b[0m loss \u001b[38;5;241m=\u001b[39m \u001b[43mc_diff\u001b[49m\u001b[38;5;241;43m.\u001b[39;49m\u001b[43msum\u001b[49m\u001b[43m(\u001b[49m\u001b[43m)\u001b[49m\n\u001b[1;32m     28\u001b[0m \u001b[38;5;28;01mreturn\u001b[39;00m loss\n",
            "\u001b[0;31mKeyboardInterrupt\u001b[0m: "
          ]
        }
      ],
      "source": [
        "np.random.seed(SEED)\n",
        "torch.manual_seed(SEED)\n",
        "\n",
        "batch_size = 64\n",
        "learning_rate = 0.001\n",
        "\n",
        "# Using the MTG Dataset\n",
        "train_folders = [\n",
        "    \"00\", \"01\", \"02\", \"03\",\n",
        "    \"04\", \"05\", \"06\", \"07\",\n",
        "    \"08\", \"09\", \"10\", \"11\",\n",
        "    \"12\", \"13\", \"14\", \"15\",\n",
        "    \"16\", \"17\", \"18\", \"19\"\n",
        "]\n",
        "val_folders = [\n",
        "    \"20\"\n",
        "]\n",
        "\n",
        "mtg_train_dataset = MTG_Mel_ContrastiveDataset(mtg_mel_path, references_sample_rate, mask_prob=0.8, samples_per_file=15, folder_whitelist=train_folders, concurrent_files=batch_size)\n",
        "mtg_val_dataset = MTG_Mel_ContrastiveDataset(mtg_mel_path, references_sample_rate, mask_prob=0.8, samples_per_file=15, folder_whitelist=val_folders, max_files=2*batch_size, concurrent_files=batch_size)\n",
        "\n",
        "train_loader = DataLoader(mtg_train_dataset, batch_size=batch_size, shuffle=False, num_workers=2, prefetch_factor=2)\n",
        "val_loader = DataLoader(mtg_val_dataset, batch_size=batch_size, shuffle=False)\n",
        "\n",
        "barlow_contrastive_embedder_model = BarlowTwinContrastive(128)\n",
        "barlow_contrastive_embedder_model = barlow_contrastive_embedder_model.to(device)\n",
        "\n",
        "\n",
        "USE_LATEST_CHECKPOINT = True\n",
        "checkpoint_file = barlow_contrastive_output_dir / f'{get_model_name(barlow_contrastive_embedder_model.name, learning_rate, batch_size)}_latest_checkpoint.pth' if USE_LATEST_CHECKPOINT else None\n",
        "if checkpoint_file is not None and not checkpoint_file.exists():\n",
        "    print(f\"Checkpoint file {checkpoint_file} not found, starting with a fresh model\")\n",
        "    checkpoint_file = None\n",
        "else:\n",
        "    print(f\"Recovering model from {checkpoint_file}\")\n",
        "\n",
        "\n",
        "barlow_t_loss, barlow_v_loss = [], []\n",
        "_ = train_contrastive_model(\n",
        "    barlow_contrastive_embedder_model,\n",
        "    train_loader, val_loader, epochs=24, lr=learning_rate, batch_size=batch_size, criterion = BarlowTwinsLoss(device),\n",
        "    t_loss_history=barlow_t_loss, v_loss_history=barlow_v_loss,\n",
        "    output_dir=barlow_contrastive_output_dir,\n",
        "    checkpoint_file=checkpoint_file,\n",
        "    device = device\n",
        ")"
      ]
    },
    {
      "cell_type": "code",
      "execution_count": 23,
      "metadata": {},
      "outputs": [
        {
          "data": {
            "image/png": "[encoded data removed]",
            "text/plain": [
              "<Figure size 1000x500 with 1 Axes>"
            ]
          },
          "metadata": {},
          "output_type": "display_data"
        }
      ],
      "source": [
        "# Plot the losses\n",
        "contrastive_loss_fig, contrastive_loss_axs = plt.subplots(1, 1, figsize=(10, 5))\n",
        "# contrastive_loss_axs.plot(*zip(*t_loss), label='Training Loss')\n",
        "contrastive_loss_axs.plot(*zip(*barlow_v_loss), label='Validation Loss')\n",
        "contrastive_loss_axs.legend()\n",
        "contrastive_loss_axs.set_xlabel('Step')\n",
        "contrastive_loss_axs.set_ylabel('InfoNCE Loss')\n",
        "plt.show()"
      ]
    },
    {
      "cell_type": "code",
      "execution_count": 29,
      "metadata": {},
      "outputs": [
        {
          "name": "stderr",
          "output_type": "stream",
          "text": [
            "100%|██████████| 20/20 [00:02<00:00,  9.77it/s]\n"
          ]
        },
        {
          "name": "stdout",
          "output_type": "stream",
          "text": [
            "Epoch 1/100 | Train Loss: 1166.9384 | Val Loss: 1263.0072 | Val Acc: 0.1000\n"
          ]
        },
        {
          "name": "stderr",
          "output_type": "stream",
          "text": [
            "100%|██████████| 20/20 [00:02<00:00,  9.95it/s]\n"
          ]
        },
        {
          "name": "stdout",
          "output_type": "stream",
          "text": [
            "Epoch 2/100 | Train Loss: 926.6116 | Val Loss: 1154.1016 | Val Acc: 0.1625\n"
          ]
        },
        {
          "name": "stderr",
          "output_type": "stream",
          "text": [
            "100%|██████████| 20/20 [00:01<00:00, 10.06it/s]\n"
          ]
        },
        {
          "name": "stdout",
          "output_type": "stream",
          "text": [
            "Epoch 3/100 | Train Loss: 653.4012 | Val Loss: 899.0685 | Val Acc: 0.1375\n"
          ]
        },
        {
          "name": "stderr",
          "output_type": "stream",
          "text": [
            "100%|██████████| 20/20 [00:02<00:00,  9.97it/s]\n"
          ]
        },
        {
          "name": "stdout",
          "output_type": "stream",
          "text": [
            "Epoch 4/100 | Train Loss: 856.3025 | Val Loss: 727.8532 | Val Acc: 0.1437\n"
          ]
        },
        {
          "name": "stderr",
          "output_type": "stream",
          "text": [
            "100%|██████████| 20/20 [00:02<00:00,  9.80it/s]\n"
          ]
        },
        {
          "name": "stdout",
          "output_type": "stream",
          "text": [
            "Epoch 5/100 | Train Loss: 698.2707 | Val Loss: 604.7036 | Val Acc: 0.1750\n"
          ]
        },
        {
          "name": "stderr",
          "output_type": "stream",
          "text": [
            "100%|██████████| 20/20 [00:02<00:00,  9.93it/s]\n"
          ]
        },
        {
          "name": "stdout",
          "output_type": "stream",
          "text": [
            "Epoch 6/100 | Train Loss: 717.2325 | Val Loss: 494.6458 | Val Acc: 0.2000\n"
          ]
        },
        {
          "name": "stderr",
          "output_type": "stream",
          "text": [
            "100%|██████████| 20/20 [00:01<00:00, 10.06it/s]\n"
          ]
        },
        {
          "name": "stdout",
          "output_type": "stream",
          "text": [
            "Epoch 7/100 | Train Loss: 518.4734 | Val Loss: 482.5620 | Val Acc: 0.2188\n"
          ]
        },
        {
          "name": "stderr",
          "output_type": "stream",
          "text": [
            "100%|██████████| 20/20 [00:02<00:00,  9.83it/s]\n"
          ]
        },
        {
          "name": "stdout",
          "output_type": "stream",
          "text": [
            "Epoch 8/100 | Train Loss: 509.8075 | Val Loss: 426.0364 | Val Acc: 0.2062\n"
          ]
        },
        {
          "name": "stderr",
          "output_type": "stream",
          "text": [
            "100%|██████████| 20/20 [00:02<00:00,  9.85it/s]\n"
          ]
        },
        {
          "name": "stdout",
          "output_type": "stream",
          "text": [
            "Epoch 9/100 | Train Loss: 369.3743 | Val Loss: 332.4104 | Val Acc: 0.2750\n"
          ]
        },
        {
          "name": "stderr",
          "output_type": "stream",
          "text": [
            "100%|██████████| 20/20 [00:02<00:00,  9.78it/s]\n"
          ]
        },
        {
          "name": "stdout",
          "output_type": "stream",
          "text": [
            "Epoch 10/100 | Train Loss: 347.1006 | Val Loss: 258.4246 | Val Acc: 0.2250\n"
          ]
        },
        {
          "name": "stderr",
          "output_type": "stream",
          "text": [
            "100%|██████████| 20/20 [00:01<00:00, 10.10it/s]\n"
          ]
        },
        {
          "name": "stdout",
          "output_type": "stream",
          "text": [
            "Epoch 11/100 | Train Loss: 307.4533 | Val Loss: 200.1888 | Val Acc: 0.2438\n"
          ]
        },
        {
          "name": "stderr",
          "output_type": "stream",
          "text": [
            "100%|██████████| 20/20 [00:01<00:00, 10.06it/s]\n"
          ]
        },
        {
          "name": "stdout",
          "output_type": "stream",
          "text": [
            "Epoch 12/100 | Train Loss: 221.0588 | Val Loss: 179.4179 | Val Acc: 0.2250\n"
          ]
        },
        {
          "name": "stderr",
          "output_type": "stream",
          "text": [
            "100%|██████████| 20/20 [00:01<00:00, 10.12it/s]\n"
          ]
        },
        {
          "name": "stdout",
          "output_type": "stream",
          "text": [
            "Epoch 13/100 | Train Loss: 186.0145 | Val Loss: 136.9495 | Val Acc: 0.2875\n"
          ]
        },
        {
          "name": "stderr",
          "output_type": "stream",
          "text": [
            "100%|██████████| 20/20 [00:01<00:00, 10.09it/s]\n"
          ]
        },
        {
          "name": "stdout",
          "output_type": "stream",
          "text": [
            "Epoch 14/100 | Train Loss: 161.0207 | Val Loss: 118.4280 | Val Acc: 0.3688\n"
          ]
        },
        {
          "name": "stderr",
          "output_type": "stream",
          "text": [
            "100%|██████████| 20/20 [00:01<00:00, 10.03it/s]\n"
          ]
        },
        {
          "name": "stdout",
          "output_type": "stream",
          "text": [
            "Epoch 15/100 | Train Loss: 164.9733 | Val Loss: 102.5507 | Val Acc: 0.3562\n"
          ]
        },
        {
          "name": "stderr",
          "output_type": "stream",
          "text": [
            "100%|██████████| 20/20 [00:01<00:00, 10.08it/s]\n"
          ]
        },
        {
          "name": "stdout",
          "output_type": "stream",
          "text": [
            "Epoch 16/100 | Train Loss: 148.2243 | Val Loss: 92.6858 | Val Acc: 0.3313\n"
          ]
        },
        {
          "name": "stderr",
          "output_type": "stream",
          "text": [
            "100%|██████████| 20/20 [00:01<00:00, 10.22it/s]\n"
          ]
        },
        {
          "name": "stdout",
          "output_type": "stream",
          "text": [
            "Epoch 17/100 | Train Loss: 86.8216 | Val Loss: 67.4196 | Val Acc: 0.3438\n"
          ]
        },
        {
          "name": "stderr",
          "output_type": "stream",
          "text": [
            "100%|██████████| 20/20 [00:01<00:00, 10.16it/s]\n"
          ]
        },
        {
          "name": "stdout",
          "output_type": "stream",
          "text": [
            "Epoch 18/100 | Train Loss: 44.0563 | Val Loss: 56.5499 | Val Acc: 0.3000\n"
          ]
        },
        {
          "name": "stderr",
          "output_type": "stream",
          "text": [
            "100%|██████████| 20/20 [00:02<00:00,  9.95it/s]\n"
          ]
        },
        {
          "name": "stdout",
          "output_type": "stream",
          "text": [
            "Epoch 19/100 | Train Loss: 73.8910 | Val Loss: 44.4052 | Val Acc: 0.2937\n"
          ]
        },
        {
          "name": "stderr",
          "output_type": "stream",
          "text": [
            "100%|██████████| 20/20 [00:01<00:00, 10.12it/s]\n"
          ]
        },
        {
          "name": "stdout",
          "output_type": "stream",
          "text": [
            "Epoch 20/100 | Train Loss: 69.1021 | Val Loss: 39.8626 | Val Acc: 0.2750\n"
          ]
        },
        {
          "name": "stderr",
          "output_type": "stream",
          "text": [
            "100%|██████████| 20/20 [00:01<00:00, 10.12it/s]\n"
          ]
        },
        {
          "name": "stdout",
          "output_type": "stream",
          "text": [
            "Epoch 21/100 | Train Loss: 68.7949 | Val Loss: 33.8907 | Val Acc: 0.2313\n"
          ]
        },
        {
          "name": "stderr",
          "output_type": "stream",
          "text": [
            "100%|██████████| 20/20 [00:01<00:00, 10.05it/s]\n"
          ]
        },
        {
          "name": "stdout",
          "output_type": "stream",
          "text": [
            "Epoch 22/100 | Train Loss: 88.0500 | Val Loss: 49.5563 | Val Acc: 0.2000\n"
          ]
        },
        {
          "name": "stderr",
          "output_type": "stream",
          "text": [
            "100%|██████████| 20/20 [00:01<00:00, 10.33it/s]\n"
          ]
        },
        {
          "name": "stdout",
          "output_type": "stream",
          "text": [
            "Epoch 23/100 | Train Loss: 55.4160 | Val Loss: 42.4891 | Val Acc: 0.2937\n"
          ]
        },
        {
          "name": "stderr",
          "output_type": "stream",
          "text": [
            "100%|██████████| 20/20 [00:01<00:00, 10.18it/s]\n"
          ]
        },
        {
          "name": "stdout",
          "output_type": "stream",
          "text": [
            "Epoch 24/100 | Train Loss: 28.5075 | Val Loss: 33.2331 | Val Acc: 0.2688\n"
          ]
        },
        {
          "name": "stderr",
          "output_type": "stream",
          "text": [
            "100%|██████████| 20/20 [00:01<00:00, 10.05it/s]\n"
          ]
        },
        {
          "name": "stdout",
          "output_type": "stream",
          "text": [
            "Epoch 25/100 | Train Loss: 63.0261 | Val Loss: 48.9398 | Val Acc: 0.2500\n"
          ]
        },
        {
          "name": "stderr",
          "output_type": "stream",
          "text": [
            "100%|██████████| 20/20 [00:01<00:00, 10.20it/s]\n"
          ]
        },
        {
          "name": "stdout",
          "output_type": "stream",
          "text": [
            "Epoch 26/100 | Train Loss: 49.4874 | Val Loss: 68.3311 | Val Acc: 0.2625\n"
          ]
        },
        {
          "name": "stderr",
          "output_type": "stream",
          "text": [
            "100%|██████████| 20/20 [00:01<00:00, 10.32it/s]\n"
          ]
        },
        {
          "name": "stdout",
          "output_type": "stream",
          "text": [
            "Epoch 27/100 | Train Loss: 68.4310 | Val Loss: 59.1767 | Val Acc: 0.2250\n"
          ]
        },
        {
          "name": "stderr",
          "output_type": "stream",
          "text": [
            "100%|██████████| 20/20 [00:01<00:00, 10.12it/s]\n"
          ]
        },
        {
          "name": "stdout",
          "output_type": "stream",
          "text": [
            "Epoch 28/100 | Train Loss: 52.2735 | Val Loss: 29.2485 | Val Acc: 0.2750\n"
          ]
        },
        {
          "name": "stderr",
          "output_type": "stream",
          "text": [
            "100%|██████████| 20/20 [00:01<00:00, 10.07it/s]\n"
          ]
        },
        {
          "name": "stdout",
          "output_type": "stream",
          "text": [
            "Epoch 29/100 | Train Loss: 37.4810 | Val Loss: 54.3374 | Val Acc: 0.1688\n"
          ]
        },
        {
          "name": "stderr",
          "output_type": "stream",
          "text": [
            "100%|██████████| 20/20 [00:01<00:00, 10.27it/s]\n"
          ]
        },
        {
          "name": "stdout",
          "output_type": "stream",
          "text": [
            "Epoch 30/100 | Train Loss: 44.5762 | Val Loss: 46.1791 | Val Acc: 0.2875\n"
          ]
        },
        {
          "name": "stderr",
          "output_type": "stream",
          "text": [
            "100%|██████████| 20/20 [00:01<00:00, 10.18it/s]\n"
          ]
        },
        {
          "name": "stdout",
          "output_type": "stream",
          "text": [
            "Epoch 31/100 | Train Loss: 54.4615 | Val Loss: 38.3505 | Val Acc: 0.3187\n"
          ]
        },
        {
          "name": "stderr",
          "output_type": "stream",
          "text": [
            "100%|██████████| 20/20 [00:01<00:00, 10.26it/s]\n"
          ]
        },
        {
          "name": "stdout",
          "output_type": "stream",
          "text": [
            "Epoch 32/100 | Train Loss: 68.8656 | Val Loss: 46.7051 | Val Acc: 0.2438\n"
          ]
        },
        {
          "name": "stderr",
          "output_type": "stream",
          "text": [
            "100%|██████████| 20/20 [00:01<00:00, 10.18it/s]\n"
          ]
        },
        {
          "name": "stdout",
          "output_type": "stream",
          "text": [
            "Epoch 33/100 | Train Loss: 47.6554 | Val Loss: 42.9957 | Val Acc: 0.2812\n"
          ]
        },
        {
          "name": "stderr",
          "output_type": "stream",
          "text": [
            "100%|██████████| 20/20 [00:01<00:00, 10.09it/s]\n"
          ]
        },
        {
          "name": "stdout",
          "output_type": "stream",
          "text": [
            "Epoch 34/100 | Train Loss: 71.8425 | Val Loss: 37.0721 | Val Acc: 0.3250\n"
          ]
        },
        {
          "name": "stderr",
          "output_type": "stream",
          "text": [
            "100%|██████████| 20/20 [00:01<00:00, 10.23it/s]\n"
          ]
        },
        {
          "name": "stdout",
          "output_type": "stream",
          "text": [
            "Epoch 35/100 | Train Loss: 45.3342 | Val Loss: 34.8785 | Val Acc: 0.2438\n"
          ]
        },
        {
          "name": "stderr",
          "output_type": "stream",
          "text": [
            "100%|██████████| 20/20 [00:01<00:00, 10.18it/s]\n"
          ]
        },
        {
          "name": "stdout",
          "output_type": "stream",
          "text": [
            "Epoch 36/100 | Train Loss: 54.8995 | Val Loss: 40.7819 | Val Acc: 0.2313\n"
          ]
        },
        {
          "name": "stderr",
          "output_type": "stream",
          "text": [
            "100%|██████████| 20/20 [00:01<00:00, 10.36it/s]\n"
          ]
        },
        {
          "name": "stdout",
          "output_type": "stream",
          "text": [
            "Epoch 37/100 | Train Loss: 77.3983 | Val Loss: 40.0482 | Val Acc: 0.3063\n"
          ]
        },
        {
          "name": "stderr",
          "output_type": "stream",
          "text": [
            "100%|██████████| 20/20 [00:01<00:00, 10.22it/s]\n"
          ]
        },
        {
          "name": "stdout",
          "output_type": "stream",
          "text": [
            "Epoch 38/100 | Train Loss: 53.2441 | Val Loss: 39.4948 | Val Acc: 0.3063\n"
          ]
        },
        {
          "name": "stderr",
          "output_type": "stream",
          "text": [
            "100%|██████████| 20/20 [00:01<00:00, 10.21it/s]\n"
          ]
        },
        {
          "name": "stdout",
          "output_type": "stream",
          "text": [
            "Epoch 39/100 | Train Loss: 52.0919 | Val Loss: 43.8210 | Val Acc: 0.1813\n"
          ]
        },
        {
          "name": "stderr",
          "output_type": "stream",
          "text": [
            "100%|██████████| 20/20 [00:02<00:00,  9.99it/s]\n"
          ]
        },
        {
          "name": "stdout",
          "output_type": "stream",
          "text": [
            "Epoch 40/100 | Train Loss: 52.4121 | Val Loss: 44.8626 | Val Acc: 0.2062\n"
          ]
        },
        {
          "name": "stderr",
          "output_type": "stream",
          "text": [
            "100%|██████████| 20/20 [00:01<00:00, 10.12it/s]\n"
          ]
        },
        {
          "name": "stdout",
          "output_type": "stream",
          "text": [
            "Epoch 41/100 | Train Loss: 67.0718 | Val Loss: 42.4818 | Val Acc: 0.2812\n"
          ]
        },
        {
          "name": "stderr",
          "output_type": "stream",
          "text": [
            "100%|██████████| 20/20 [00:01<00:00, 10.09it/s]\n"
          ]
        },
        {
          "name": "stdout",
          "output_type": "stream",
          "text": [
            "Epoch 42/100 | Train Loss: 50.9049 | Val Loss: 31.5213 | Val Acc: 0.2562\n"
          ]
        },
        {
          "name": "stderr",
          "output_type": "stream",
          "text": [
            "100%|██████████| 20/20 [00:01<00:00, 10.22it/s]\n"
          ]
        },
        {
          "name": "stdout",
          "output_type": "stream",
          "text": [
            "Epoch 43/100 | Train Loss: 109.7059 | Val Loss: 83.4687 | Val Acc: 0.2125\n"
          ]
        },
        {
          "name": "stderr",
          "output_type": "stream",
          "text": [
            "100%|██████████| 20/20 [00:01<00:00, 10.21it/s]\n"
          ]
        },
        {
          "name": "stdout",
          "output_type": "stream",
          "text": [
            "Epoch 44/100 | Train Loss: 70.6450 | Val Loss: 47.6044 | Val Acc: 0.2188\n"
          ]
        },
        {
          "name": "stderr",
          "output_type": "stream",
          "text": [
            "100%|██████████| 20/20 [00:01<00:00, 10.17it/s]\n"
          ]
        },
        {
          "name": "stdout",
          "output_type": "stream",
          "text": [
            "Epoch 45/100 | Train Loss: 52.0868 | Val Loss: 40.7892 | Val Acc: 0.2375\n"
          ]
        },
        {
          "name": "stderr",
          "output_type": "stream",
          "text": [
            "100%|██████████| 20/20 [00:01<00:00, 10.28it/s]\n"
          ]
        },
        {
          "name": "stdout",
          "output_type": "stream",
          "text": [
            "Epoch 46/100 | Train Loss: 70.5720 | Val Loss: 48.8772 | Val Acc: 0.2500\n"
          ]
        },
        {
          "name": "stderr",
          "output_type": "stream",
          "text": [
            "100%|██████████| 20/20 [00:01<00:00, 10.19it/s]\n"
          ]
        },
        {
          "name": "stdout",
          "output_type": "stream",
          "text": [
            "Epoch 47/100 | Train Loss: 57.3966 | Val Loss: 44.1671 | Val Acc: 0.2625\n"
          ]
        },
        {
          "name": "stderr",
          "output_type": "stream",
          "text": [
            "100%|██████████| 20/20 [00:01<00:00, 10.20it/s]\n"
          ]
        },
        {
          "name": "stdout",
          "output_type": "stream",
          "text": [
            "Epoch 48/100 | Train Loss: 56.3971 | Val Loss: 38.7988 | Val Acc: 0.2562\n"
          ]
        },
        {
          "name": "stderr",
          "output_type": "stream",
          "text": [
            "100%|██████████| 20/20 [00:01<00:00, 10.15it/s]\n"
          ]
        },
        {
          "name": "stdout",
          "output_type": "stream",
          "text": [
            "Epoch 49/100 | Train Loss: 68.5593 | Val Loss: 53.4015 | Val Acc: 0.2812\n"
          ]
        },
        {
          "name": "stderr",
          "output_type": "stream",
          "text": [
            "100%|██████████| 20/20 [00:01<00:00, 10.26it/s]\n"
          ]
        },
        {
          "name": "stdout",
          "output_type": "stream",
          "text": [
            "Epoch 50/100 | Train Loss: 64.2746 | Val Loss: 36.8822 | Val Acc: 0.2937\n"
          ]
        },
        {
          "name": "stderr",
          "output_type": "stream",
          "text": [
            "100%|██████████| 20/20 [00:01<00:00, 10.24it/s]\n"
          ]
        },
        {
          "name": "stdout",
          "output_type": "stream",
          "text": [
            "Epoch 51/100 | Train Loss: 43.6042 | Val Loss: 37.1258 | Val Acc: 0.3375\n"
          ]
        },
        {
          "name": "stderr",
          "output_type": "stream",
          "text": [
            "100%|██████████| 20/20 [00:01<00:00, 10.24it/s]\n"
          ]
        },
        {
          "name": "stdout",
          "output_type": "stream",
          "text": [
            "Epoch 52/100 | Train Loss: 33.0333 | Val Loss: 48.2214 | Val Acc: 0.2250\n"
          ]
        },
        {
          "name": "stderr",
          "output_type": "stream",
          "text": [
            "100%|██████████| 20/20 [00:01<00:00, 10.26it/s]\n"
          ]
        },
        {
          "name": "stdout",
          "output_type": "stream",
          "text": [
            "Epoch 53/100 | Train Loss: 49.0737 | Val Loss: 30.6434 | Val Acc: 0.2875\n"
          ]
        },
        {
          "name": "stderr",
          "output_type": "stream",
          "text": [
            "100%|██████████| 20/20 [00:01<00:00, 10.15it/s]\n"
          ]
        },
        {
          "name": "stdout",
          "output_type": "stream",
          "text": [
            "Epoch 54/100 | Train Loss: 35.5867 | Val Loss: 43.6540 | Val Acc: 0.2250\n"
          ]
        },
        {
          "name": "stderr",
          "output_type": "stream",
          "text": [
            "100%|██████████| 20/20 [00:01<00:00, 10.10it/s]\n"
          ]
        },
        {
          "name": "stdout",
          "output_type": "stream",
          "text": [
            "Epoch 55/100 | Train Loss: 47.8051 | Val Loss: 37.3199 | Val Acc: 0.2562\n"
          ]
        },
        {
          "name": "stderr",
          "output_type": "stream",
          "text": [
            "100%|██████████| 20/20 [00:02<00:00,  9.98it/s]\n"
          ]
        },
        {
          "name": "stdout",
          "output_type": "stream",
          "text": [
            "Epoch 56/100 | Train Loss: 46.2321 | Val Loss: 36.7058 | Val Acc: 0.3000\n"
          ]
        },
        {
          "name": "stderr",
          "output_type": "stream",
          "text": [
            "100%|██████████| 20/20 [00:01<00:00, 10.19it/s]\n"
          ]
        },
        {
          "name": "stdout",
          "output_type": "stream",
          "text": [
            "Epoch 57/100 | Train Loss: 26.4713 | Val Loss: 25.7040 | Val Acc: 0.1562\n"
          ]
        },
        {
          "name": "stderr",
          "output_type": "stream",
          "text": [
            "100%|██████████| 20/20 [00:01<00:00, 10.06it/s]\n"
          ]
        },
        {
          "name": "stdout",
          "output_type": "stream",
          "text": [
            "Epoch 58/100 | Train Loss: 34.2962 | Val Loss: 23.0105 | Val Acc: 0.1813\n"
          ]
        },
        {
          "name": "stderr",
          "output_type": "stream",
          "text": [
            "100%|██████████| 20/20 [00:01<00:00, 10.22it/s]\n"
          ]
        },
        {
          "name": "stdout",
          "output_type": "stream",
          "text": [
            "Epoch 59/100 | Train Loss: 31.7050 | Val Loss: 34.6548 | Val Acc: 0.2375\n"
          ]
        },
        {
          "name": "stderr",
          "output_type": "stream",
          "text": [
            "100%|██████████| 20/20 [00:01<00:00, 10.08it/s]\n"
          ]
        },
        {
          "name": "stdout",
          "output_type": "stream",
          "text": [
            "Epoch 60/100 | Train Loss: 44.2778 | Val Loss: 31.4386 | Val Acc: 0.3063\n"
          ]
        },
        {
          "name": "stderr",
          "output_type": "stream",
          "text": [
            "100%|██████████| 20/20 [00:01<00:00, 10.25it/s]\n"
          ]
        },
        {
          "name": "stdout",
          "output_type": "stream",
          "text": [
            "Epoch 61/100 | Train Loss: 32.5282 | Val Loss: 23.8302 | Val Acc: 0.2562\n"
          ]
        },
        {
          "name": "stderr",
          "output_type": "stream",
          "text": [
            "100%|██████████| 20/20 [00:01<00:00, 10.27it/s]\n"
          ]
        },
        {
          "name": "stdout",
          "output_type": "stream",
          "text": [
            "Epoch 62/100 | Train Loss: 29.6308 | Val Loss: 17.3680 | Val Acc: 0.3000\n"
          ]
        },
        {
          "name": "stderr",
          "output_type": "stream",
          "text": [
            "100%|██████████| 20/20 [00:02<00:00,  9.97it/s]\n"
          ]
        },
        {
          "name": "stdout",
          "output_type": "stream",
          "text": [
            "Epoch 63/100 | Train Loss: 28.5901 | Val Loss: 24.5014 | Val Acc: 0.2937\n"
          ]
        },
        {
          "name": "stderr",
          "output_type": "stream",
          "text": [
            "100%|██████████| 20/20 [00:01<00:00, 10.26it/s]\n"
          ]
        },
        {
          "name": "stdout",
          "output_type": "stream",
          "text": [
            "Epoch 64/100 | Train Loss: 26.5268 | Val Loss: 20.0916 | Val Acc: 0.3500\n"
          ]
        },
        {
          "name": "stderr",
          "output_type": "stream",
          "text": [
            "100%|██████████| 20/20 [00:01<00:00, 10.24it/s]\n"
          ]
        },
        {
          "name": "stdout",
          "output_type": "stream",
          "text": [
            "Epoch 65/100 | Train Loss: 28.4203 | Val Loss: 39.5390 | Val Acc: 0.3000\n"
          ]
        },
        {
          "name": "stderr",
          "output_type": "stream",
          "text": [
            "100%|██████████| 20/20 [00:01<00:00, 10.17it/s]\n"
          ]
        },
        {
          "name": "stdout",
          "output_type": "stream",
          "text": [
            "Epoch 66/100 | Train Loss: 27.3915 | Val Loss: 20.5338 | Val Acc: 0.2937\n"
          ]
        },
        {
          "name": "stderr",
          "output_type": "stream",
          "text": [
            "100%|██████████| 20/20 [00:01<00:00, 10.14it/s]\n"
          ]
        },
        {
          "name": "stdout",
          "output_type": "stream",
          "text": [
            "Epoch 67/100 | Train Loss: 21.9013 | Val Loss: 23.6242 | Val Acc: 0.3187\n"
          ]
        },
        {
          "name": "stderr",
          "output_type": "stream",
          "text": [
            "100%|██████████| 20/20 [00:01<00:00, 10.19it/s]\n"
          ]
        },
        {
          "name": "stdout",
          "output_type": "stream",
          "text": [
            "Epoch 68/100 | Train Loss: 20.6083 | Val Loss: 17.9006 | Val Acc: 0.2562\n"
          ]
        },
        {
          "name": "stderr",
          "output_type": "stream",
          "text": [
            "100%|██████████| 20/20 [00:01<00:00, 10.16it/s]\n"
          ]
        },
        {
          "name": "stdout",
          "output_type": "stream",
          "text": [
            "Epoch 69/100 | Train Loss: 16.4292 | Val Loss: 14.0543 | Val Acc: 0.3438\n"
          ]
        },
        {
          "name": "stderr",
          "output_type": "stream",
          "text": [
            "100%|██████████| 20/20 [00:01<00:00, 10.12it/s]\n"
          ]
        },
        {
          "name": "stdout",
          "output_type": "stream",
          "text": [
            "Epoch 70/100 | Train Loss: 22.0773 | Val Loss: 16.8192 | Val Acc: 0.2625\n"
          ]
        },
        {
          "name": "stderr",
          "output_type": "stream",
          "text": [
            "100%|██████████| 20/20 [00:02<00:00, 10.00it/s]\n"
          ]
        },
        {
          "name": "stdout",
          "output_type": "stream",
          "text": [
            "Epoch 71/100 | Train Loss: 21.9330 | Val Loss: 21.4568 | Val Acc: 0.2688\n"
          ]
        },
        {
          "name": "stderr",
          "output_type": "stream",
          "text": [
            "100%|██████████| 20/20 [00:01<00:00, 10.01it/s]\n"
          ]
        },
        {
          "name": "stdout",
          "output_type": "stream",
          "text": [
            "Epoch 72/100 | Train Loss: 19.0453 | Val Loss: 15.4574 | Val Acc: 0.2937\n"
          ]
        },
        {
          "name": "stderr",
          "output_type": "stream",
          "text": [
            "100%|██████████| 20/20 [00:01<00:00, 10.25it/s]\n"
          ]
        },
        {
          "name": "stdout",
          "output_type": "stream",
          "text": [
            "Epoch 73/100 | Train Loss: 24.3386 | Val Loss: 13.6124 | Val Acc: 0.2937\n"
          ]
        },
        {
          "name": "stderr",
          "output_type": "stream",
          "text": [
            "100%|██████████| 20/20 [00:01<00:00, 10.16it/s]\n"
          ]
        },
        {
          "name": "stdout",
          "output_type": "stream",
          "text": [
            "Epoch 74/100 | Train Loss: 22.0739 | Val Loss: 16.9734 | Val Acc: 0.3187\n"
          ]
        },
        {
          "name": "stderr",
          "output_type": "stream",
          "text": [
            "100%|██████████| 20/20 [00:01<00:00, 10.04it/s]\n"
          ]
        },
        {
          "name": "stdout",
          "output_type": "stream",
          "text": [
            "Epoch 75/100 | Train Loss: 22.3939 | Val Loss: 15.1471 | Val Acc: 0.3313\n"
          ]
        },
        {
          "name": "stderr",
          "output_type": "stream",
          "text": [
            "100%|██████████| 20/20 [00:01<00:00, 10.31it/s]\n"
          ]
        },
        {
          "name": "stdout",
          "output_type": "stream",
          "text": [
            "Epoch 76/100 | Train Loss: 14.7132 | Val Loss: 11.5611 | Val Acc: 0.3250\n"
          ]
        },
        {
          "name": "stderr",
          "output_type": "stream",
          "text": [
            "100%|██████████| 20/20 [00:01<00:00, 10.13it/s]\n"
          ]
        },
        {
          "name": "stdout",
          "output_type": "stream",
          "text": [
            "Epoch 77/100 | Train Loss: 12.7616 | Val Loss: 6.4961 | Val Acc: 0.2937\n"
          ]
        },
        {
          "name": "stderr",
          "output_type": "stream",
          "text": [
            "100%|██████████| 20/20 [00:01<00:00, 10.06it/s]\n"
          ]
        },
        {
          "name": "stdout",
          "output_type": "stream",
          "text": [
            "Epoch 78/100 | Train Loss: 9.7014 | Val Loss: 10.0377 | Val Acc: 0.2812\n"
          ]
        },
        {
          "name": "stderr",
          "output_type": "stream",
          "text": [
            "100%|██████████| 20/20 [00:01<00:00, 10.22it/s]\n"
          ]
        },
        {
          "name": "stdout",
          "output_type": "stream",
          "text": [
            "Epoch 79/100 | Train Loss: 19.5380 | Val Loss: 13.8353 | Val Acc: 0.2688\n"
          ]
        },
        {
          "name": "stderr",
          "output_type": "stream",
          "text": [
            "100%|██████████| 20/20 [00:01<00:00, 10.20it/s]\n"
          ]
        },
        {
          "name": "stdout",
          "output_type": "stream",
          "text": [
            "Epoch 80/100 | Train Loss: 16.4059 | Val Loss: 13.0781 | Val Acc: 0.3125\n"
          ]
        },
        {
          "name": "stderr",
          "output_type": "stream",
          "text": [
            "100%|██████████| 20/20 [00:01<00:00, 10.23it/s]\n"
          ]
        },
        {
          "name": "stdout",
          "output_type": "stream",
          "text": [
            "Epoch 81/100 | Train Loss: 14.4885 | Val Loss: 12.4991 | Val Acc: 0.2750\n"
          ]
        },
        {
          "name": "stderr",
          "output_type": "stream",
          "text": [
            "100%|██████████| 20/20 [00:01<00:00, 10.25it/s]\n"
          ]
        },
        {
          "name": "stdout",
          "output_type": "stream",
          "text": [
            "Epoch 82/100 | Train Loss: 13.3140 | Val Loss: 11.2335 | Val Acc: 0.2875\n"
          ]
        },
        {
          "name": "stderr",
          "output_type": "stream",
          "text": [
            "100%|██████████| 20/20 [00:01<00:00, 10.18it/s]\n"
          ]
        },
        {
          "name": "stdout",
          "output_type": "stream",
          "text": [
            "Epoch 83/100 | Train Loss: 18.7464 | Val Loss: 8.6261 | Val Acc: 0.2750\n"
          ]
        },
        {
          "name": "stderr",
          "output_type": "stream",
          "text": [
            "100%|██████████| 20/20 [00:01<00:00, 10.12it/s]\n"
          ]
        },
        {
          "name": "stdout",
          "output_type": "stream",
          "text": [
            "Epoch 84/100 | Train Loss: 11.3663 | Val Loss: 8.1782 | Val Acc: 0.3438\n"
          ]
        },
        {
          "name": "stderr",
          "output_type": "stream",
          "text": [
            "100%|██████████| 20/20 [00:01<00:00, 10.29it/s]\n"
          ]
        },
        {
          "name": "stdout",
          "output_type": "stream",
          "text": [
            "Epoch 85/100 | Train Loss: 12.1229 | Val Loss: 6.9892 | Val Acc: 0.3938\n"
          ]
        },
        {
          "name": "stderr",
          "output_type": "stream",
          "text": [
            "100%|██████████| 20/20 [00:01<00:00, 10.10it/s]\n"
          ]
        },
        {
          "name": "stdout",
          "output_type": "stream",
          "text": [
            "Epoch 86/100 | Train Loss: 11.7842 | Val Loss: 7.7222 | Val Acc: 0.3187\n"
          ]
        },
        {
          "name": "stderr",
          "output_type": "stream",
          "text": [
            "100%|██████████| 20/20 [00:01<00:00, 10.29it/s]\n"
          ]
        },
        {
          "name": "stdout",
          "output_type": "stream",
          "text": [
            "Epoch 87/100 | Train Loss: 14.5921 | Val Loss: 6.5184 | Val Acc: 0.3938\n"
          ]
        },
        {
          "name": "stderr",
          "output_type": "stream",
          "text": [
            "100%|██████████| 20/20 [00:01<00:00, 10.20it/s]\n"
          ]
        },
        {
          "name": "stdout",
          "output_type": "stream",
          "text": [
            "Epoch 88/100 | Train Loss: 11.2523 | Val Loss: 7.1782 | Val Acc: 0.3688\n"
          ]
        },
        {
          "name": "stderr",
          "output_type": "stream",
          "text": [
            "100%|██████████| 20/20 [00:01<00:00, 10.20it/s]\n"
          ]
        },
        {
          "name": "stdout",
          "output_type": "stream",
          "text": [
            "Epoch 89/100 | Train Loss: 12.8028 | Val Loss: 6.2699 | Val Acc: 0.3438\n"
          ]
        },
        {
          "name": "stderr",
          "output_type": "stream",
          "text": [
            "100%|██████████| 20/20 [00:02<00:00, 10.00it/s]\n"
          ]
        },
        {
          "name": "stdout",
          "output_type": "stream",
          "text": [
            "Epoch 90/100 | Train Loss: 8.1561 | Val Loss: 4.7951 | Val Acc: 0.4000\n"
          ]
        },
        {
          "name": "stderr",
          "output_type": "stream",
          "text": [
            "100%|██████████| 20/20 [00:01<00:00, 10.11it/s]\n"
          ]
        },
        {
          "name": "stdout",
          "output_type": "stream",
          "text": [
            "Epoch 91/100 | Train Loss: 7.5336 | Val Loss: 5.4598 | Val Acc: 0.3750\n"
          ]
        },
        {
          "name": "stderr",
          "output_type": "stream",
          "text": [
            "100%|██████████| 20/20 [00:01<00:00, 10.32it/s]\n"
          ]
        },
        {
          "name": "stdout",
          "output_type": "stream",
          "text": [
            "Epoch 92/100 | Train Loss: 11.2837 | Val Loss: 5.4843 | Val Acc: 0.4000\n"
          ]
        },
        {
          "name": "stderr",
          "output_type": "stream",
          "text": [
            "100%|██████████| 20/20 [00:01<00:00, 10.18it/s]\n"
          ]
        },
        {
          "name": "stdout",
          "output_type": "stream",
          "text": [
            "Epoch 93/100 | Train Loss: 10.2093 | Val Loss: 5.3322 | Val Acc: 0.3875\n"
          ]
        },
        {
          "name": "stderr",
          "output_type": "stream",
          "text": [
            "100%|██████████| 20/20 [00:01<00:00, 10.30it/s]\n"
          ]
        },
        {
          "name": "stdout",
          "output_type": "stream",
          "text": [
            "Epoch 94/100 | Train Loss: 10.4620 | Val Loss: 4.4843 | Val Acc: 0.4000\n"
          ]
        },
        {
          "name": "stderr",
          "output_type": "stream",
          "text": [
            "100%|██████████| 20/20 [00:01<00:00, 10.12it/s]\n"
          ]
        },
        {
          "name": "stdout",
          "output_type": "stream",
          "text": [
            "Epoch 95/100 | Train Loss: 15.4785 | Val Loss: 4.1545 | Val Acc: 0.3812\n"
          ]
        },
        {
          "name": "stderr",
          "output_type": "stream",
          "text": [
            "100%|██████████| 20/20 [00:01<00:00, 10.17it/s]\n"
          ]
        },
        {
          "name": "stdout",
          "output_type": "stream",
          "text": [
            "Epoch 96/100 | Train Loss: 11.7551 | Val Loss: 4.4598 | Val Acc: 0.4062\n"
          ]
        },
        {
          "name": "stderr",
          "output_type": "stream",
          "text": [
            "100%|██████████| 20/20 [00:01<00:00, 10.20it/s]\n"
          ]
        },
        {
          "name": "stdout",
          "output_type": "stream",
          "text": [
            "Epoch 97/100 | Train Loss: 10.6818 | Val Loss: 4.4377 | Val Acc: 0.4187\n"
          ]
        },
        {
          "name": "stderr",
          "output_type": "stream",
          "text": [
            "100%|██████████| 20/20 [00:01<00:00, 10.10it/s]\n"
          ]
        },
        {
          "name": "stdout",
          "output_type": "stream",
          "text": [
            "Epoch 98/100 | Train Loss: 9.8833 | Val Loss: 4.5553 | Val Acc: 0.4375\n"
          ]
        },
        {
          "name": "stderr",
          "output_type": "stream",
          "text": [
            "100%|██████████| 20/20 [00:01<00:00, 10.23it/s]\n"
          ]
        },
        {
          "name": "stdout",
          "output_type": "stream",
          "text": [
            "Epoch 99/100 | Train Loss: 9.0365 | Val Loss: 4.9541 | Val Acc: 0.4187\n"
          ]
        },
        {
          "name": "stderr",
          "output_type": "stream",
          "text": [
            "100%|██████████| 20/20 [00:01<00:00, 10.23it/s]\n"
          ]
        },
        {
          "name": "stdout",
          "output_type": "stream",
          "text": [
            "Epoch 100/100 | Train Loss: 9.2044 | Val Loss: 4.8919 | Val Acc: 0.4250\n"
          ]
        }
      ],
      "source": [
        "np.random.seed(SEED)\n",
        "torch.manual_seed(SEED)\n",
        "\n",
        "# Load the best contrastive embedding model\n",
        "contrastive_embedder_model = GTZANContrastiveModelLarge(128)\n",
        "contrastive_embedder_model.load_state_dict(torch.load(barlow_contrastive_output_dir / 'best.pth'))\n",
        "\n",
        "# Check if the model already exists\n",
        "if (contrastive_classifier_output_dir / 'best.pth').exists():\n",
        "    res = input(\"Contrastive classifier (embeddings) model exists. Enter y to overwrite: \")\n",
        "    if res.lower() != 'y':\n",
        "        raise Exception(\"Model exists\")\n",
        "\n",
        "# Return to the original dataset to train the classifier\n",
        "fold_generator = gtzan_generate_folds(audio_tensors, genres, references_sample_rate, mask_prob=0.8)\n",
        "train_dataset, val_dataset = next(fold_generator)\n",
        "\n",
        "train_loader = DataLoader(train_dataset, batch_size=32, shuffle=True)\n",
        "val_loader = DataLoader(val_dataset, batch_size=32, shuffle=False)\n",
        "\n",
        "contrastive_classifier = ContrastiveClassificationModel_2(contrastive_embedder_model, len(audio_tensors))\n",
        "contrastive_classifier = contrastive_classifier.to(device)\n",
        "cont_t_loss, cont_v_loss, cont_v_acc = train_base_gtzan_classifier(contrastive_classifier, train_loader, val_loader, epochs=100, learning_rate=0.001, output_dir=contrastive_classifier_output_dir)"
      ]
    },
    {
      "cell_type": "code",
      "execution_count": 30,
      "metadata": {},
      "outputs": [
        {
          "data": {
            "image/png": "[encoded data removed]",
            "text/plain": [
              "<Figure size 1000x500 with 1 Axes>"
            ]
          },
          "metadata": {},
          "output_type": "display_data"
        },
        {
          "data": {
            "image/png": "[encoded data removed]",
            "text/plain": [
              "<Figure size 1000x500 with 1 Axes>"
            ]
          },
          "metadata": {},
          "output_type": "display_data"
        }
      ],
      "source": [
        "# Plot the loss and accuracy\n",
        "contrastive_classifier_loss_fig, contrastive_classifier_loss_axs = plt.subplots(1, 1, figsize=(10, 5))\n",
        "contrastive_classifier_loss_axs.plot(*zip(*cont_t_loss), label='Training Loss')\n",
        "contrastive_classifier_loss_axs.plot(*zip(*cont_v_loss), label='Validation Loss')\n",
        "contrastive_classifier_loss_axs.legend()\n",
        "contrastive_classifier_loss_axs.set_xlabel('Step')\n",
        "contrastive_classifier_loss_axs.set_ylabel('Cross Entropy Loss')\n",
        "plt.show()\n",
        "\n",
        "contrastive_classifier_acc_fig, contrastive_classifier_acc_axs = plt.subplots(1, 1, figsize=(10, 5))\n",
        "contrastive_classifier_acc_axs.plot(*zip(*cont_v_acc), label='Validation Accuracy')\n",
        "contrastive_classifier_acc_axs.legend()\n",
        "contrastive_classifier_acc_axs.set_xlabel('Step')\n",
        "contrastive_classifier_acc_axs.set_ylabel('Accuracy')\n",
        "plt.show()"
      ]
    },
    {
      "cell_type": "code",
      "execution_count": 33,
      "metadata": {},
      "outputs": [
        {
          "name": "stderr",
          "output_type": "stream",
          "text": [
            "100%|██████████| 20/20 [00:02<00:00,  9.81it/s]\n"
          ]
        },
        {
          "name": "stdout",
          "output_type": "stream",
          "text": [
            "Epoch 1/100 | Train Loss: 20.7436 | Val Loss: 13.4433 | Val Acc: 0.2062\n"
          ]
        },
        {
          "name": "stderr",
          "output_type": "stream",
          "text": [
            "100%|██████████| 20/20 [00:02<00:00,  9.92it/s]\n"
          ]
        },
        {
          "name": "stdout",
          "output_type": "stream",
          "text": [
            "Epoch 2/100 | Train Loss: 11.3105 | Val Loss: 7.6738 | Val Acc: 0.4563\n"
          ]
        },
        {
          "name": "stderr",
          "output_type": "stream",
          "text": [
            "100%|██████████| 20/20 [00:02<00:00,  9.83it/s]\n"
          ]
        },
        {
          "name": "stdout",
          "output_type": "stream",
          "text": [
            "Epoch 3/100 | Train Loss: 9.8945 | Val Loss: 6.7109 | Val Acc: 0.4938\n"
          ]
        },
        {
          "name": "stderr",
          "output_type": "stream",
          "text": [
            "100%|██████████| 20/20 [00:02<00:00,  9.74it/s]\n"
          ]
        },
        {
          "name": "stdout",
          "output_type": "stream",
          "text": [
            "Epoch 4/100 | Train Loss: 10.4511 | Val Loss: 5.9086 | Val Acc: 0.6000\n"
          ]
        },
        {
          "name": "stderr",
          "output_type": "stream",
          "text": [
            "100%|██████████| 20/20 [00:02<00:00,  9.79it/s]\n"
          ]
        },
        {
          "name": "stdout",
          "output_type": "stream",
          "text": [
            "Epoch 5/100 | Train Loss: 6.7662 | Val Loss: 5.7822 | Val Acc: 0.5750\n"
          ]
        },
        {
          "name": "stderr",
          "output_type": "stream",
          "text": [
            "100%|██████████| 20/20 [00:02<00:00,  9.77it/s]\n"
          ]
        },
        {
          "name": "stdout",
          "output_type": "stream",
          "text": [
            "Epoch 6/100 | Train Loss: 5.9273 | Val Loss: 6.1024 | Val Acc: 0.6250\n"
          ]
        },
        {
          "name": "stderr",
          "output_type": "stream",
          "text": [
            "100%|██████████| 20/20 [00:02<00:00,  9.98it/s]\n"
          ]
        },
        {
          "name": "stdout",
          "output_type": "stream",
          "text": [
            "Epoch 7/100 | Train Loss: 4.2879 | Val Loss: 5.0308 | Val Acc: 0.6812\n"
          ]
        },
        {
          "name": "stderr",
          "output_type": "stream",
          "text": [
            "100%|██████████| 20/20 [00:02<00:00,  9.75it/s]\n"
          ]
        },
        {
          "name": "stdout",
          "output_type": "stream",
          "text": [
            "Epoch 8/100 | Train Loss: 3.5034 | Val Loss: 5.4182 | Val Acc: 0.6625\n"
          ]
        },
        {
          "name": "stderr",
          "output_type": "stream",
          "text": [
            "100%|██████████| 20/20 [00:02<00:00,  9.98it/s]\n"
          ]
        },
        {
          "name": "stdout",
          "output_type": "stream",
          "text": [
            "Epoch 9/100 | Train Loss: 5.5306 | Val Loss: 6.0886 | Val Acc: 0.6438\n"
          ]
        },
        {
          "name": "stderr",
          "output_type": "stream",
          "text": [
            "100%|██████████| 20/20 [00:02<00:00,  9.90it/s]\n"
          ]
        },
        {
          "name": "stdout",
          "output_type": "stream",
          "text": [
            "Epoch 10/100 | Train Loss: 5.8738 | Val Loss: 5.5224 | Val Acc: 0.6750\n"
          ]
        },
        {
          "name": "stderr",
          "output_type": "stream",
          "text": [
            "100%|██████████| 20/20 [00:02<00:00,  9.97it/s]\n"
          ]
        },
        {
          "name": "stdout",
          "output_type": "stream",
          "text": [
            "Epoch 11/100 | Train Loss: 5.6900 | Val Loss: 5.6697 | Val Acc: 0.6625\n"
          ]
        },
        {
          "name": "stderr",
          "output_type": "stream",
          "text": [
            "100%|██████████| 20/20 [00:02<00:00,  9.97it/s]\n"
          ]
        },
        {
          "name": "stdout",
          "output_type": "stream",
          "text": [
            "Epoch 12/100 | Train Loss: 5.8157 | Val Loss: 6.4845 | Val Acc: 0.7125\n"
          ]
        },
        {
          "name": "stderr",
          "output_type": "stream",
          "text": [
            "100%|██████████| 20/20 [00:02<00:00,  9.96it/s]\n"
          ]
        },
        {
          "name": "stdout",
          "output_type": "stream",
          "text": [
            "Epoch 13/100 | Train Loss: 4.3881 | Val Loss: 5.2406 | Val Acc: 0.6750\n"
          ]
        },
        {
          "name": "stderr",
          "output_type": "stream",
          "text": [
            "100%|██████████| 20/20 [00:02<00:00,  9.98it/s]\n"
          ]
        },
        {
          "name": "stdout",
          "output_type": "stream",
          "text": [
            "Epoch 14/100 | Train Loss: 3.9625 | Val Loss: 4.4754 | Val Acc: 0.6687\n"
          ]
        },
        {
          "name": "stderr",
          "output_type": "stream",
          "text": [
            "100%|██████████| 20/20 [00:02<00:00,  9.83it/s]\n"
          ]
        },
        {
          "name": "stdout",
          "output_type": "stream",
          "text": [
            "Epoch 15/100 | Train Loss: 2.6259 | Val Loss: 4.2857 | Val Acc: 0.7250\n"
          ]
        },
        {
          "name": "stderr",
          "output_type": "stream",
          "text": [
            "100%|██████████| 20/20 [00:02<00:00,  9.88it/s]\n"
          ]
        },
        {
          "name": "stdout",
          "output_type": "stream",
          "text": [
            "Epoch 16/100 | Train Loss: 1.9008 | Val Loss: 5.1554 | Val Acc: 0.6625\n"
          ]
        },
        {
          "name": "stderr",
          "output_type": "stream",
          "text": [
            "100%|██████████| 20/20 [00:02<00:00,  9.97it/s]\n"
          ]
        },
        {
          "name": "stdout",
          "output_type": "stream",
          "text": [
            "Epoch 17/100 | Train Loss: 2.2536 | Val Loss: 4.5284 | Val Acc: 0.6375\n"
          ]
        },
        {
          "name": "stderr",
          "output_type": "stream",
          "text": [
            "100%|██████████| 20/20 [00:01<00:00, 10.06it/s]\n"
          ]
        },
        {
          "name": "stdout",
          "output_type": "stream",
          "text": [
            "Epoch 18/100 | Train Loss: 1.6816 | Val Loss: 3.7955 | Val Acc: 0.6750\n"
          ]
        },
        {
          "name": "stderr",
          "output_type": "stream",
          "text": [
            "100%|██████████| 20/20 [00:02<00:00,  9.94it/s]\n"
          ]
        },
        {
          "name": "stdout",
          "output_type": "stream",
          "text": [
            "Epoch 19/100 | Train Loss: 3.0396 | Val Loss: 3.8404 | Val Acc: 0.6812\n"
          ]
        },
        {
          "name": "stderr",
          "output_type": "stream",
          "text": [
            "100%|██████████| 20/20 [00:02<00:00,  9.92it/s]\n"
          ]
        },
        {
          "name": "stdout",
          "output_type": "stream",
          "text": [
            "Epoch 20/100 | Train Loss: 3.5635 | Val Loss: 3.8914 | Val Acc: 0.6625\n"
          ]
        },
        {
          "name": "stderr",
          "output_type": "stream",
          "text": [
            "100%|██████████| 20/20 [00:02<00:00,  9.97it/s]\n"
          ]
        },
        {
          "name": "stdout",
          "output_type": "stream",
          "text": [
            "Epoch 21/100 | Train Loss: 1.9181 | Val Loss: 3.0677 | Val Acc: 0.6375\n"
          ]
        },
        {
          "name": "stderr",
          "output_type": "stream",
          "text": [
            "100%|██████████| 20/20 [00:02<00:00,  9.83it/s]\n"
          ]
        },
        {
          "name": "stdout",
          "output_type": "stream",
          "text": [
            "Epoch 22/100 | Train Loss: 2.2936 | Val Loss: 3.3381 | Val Acc: 0.6938\n"
          ]
        },
        {
          "name": "stderr",
          "output_type": "stream",
          "text": [
            "100%|██████████| 20/20 [00:02<00:00,  9.76it/s]\n"
          ]
        },
        {
          "name": "stdout",
          "output_type": "stream",
          "text": [
            "Epoch 23/100 | Train Loss: 2.1066 | Val Loss: 2.7083 | Val Acc: 0.6750\n"
          ]
        },
        {
          "name": "stderr",
          "output_type": "stream",
          "text": [
            "100%|██████████| 20/20 [00:02<00:00,  9.91it/s]\n"
          ]
        },
        {
          "name": "stdout",
          "output_type": "stream",
          "text": [
            "Epoch 24/100 | Train Loss: 1.2738 | Val Loss: 2.2050 | Val Acc: 0.7188\n"
          ]
        },
        {
          "name": "stderr",
          "output_type": "stream",
          "text": [
            "100%|██████████| 20/20 [00:02<00:00,  9.71it/s]\n"
          ]
        },
        {
          "name": "stdout",
          "output_type": "stream",
          "text": [
            "Epoch 25/100 | Train Loss: 1.9268 | Val Loss: 2.0020 | Val Acc: 0.7375\n"
          ]
        },
        {
          "name": "stderr",
          "output_type": "stream",
          "text": [
            "100%|██████████| 20/20 [00:02<00:00,  9.97it/s]\n"
          ]
        },
        {
          "name": "stdout",
          "output_type": "stream",
          "text": [
            "Epoch 26/100 | Train Loss: 1.1622 | Val Loss: 2.6753 | Val Acc: 0.6500\n"
          ]
        },
        {
          "name": "stderr",
          "output_type": "stream",
          "text": [
            "100%|██████████| 20/20 [00:01<00:00, 10.04it/s]\n"
          ]
        },
        {
          "name": "stdout",
          "output_type": "stream",
          "text": [
            "Epoch 27/100 | Train Loss: 0.9760 | Val Loss: 2.4300 | Val Acc: 0.6875\n"
          ]
        },
        {
          "name": "stderr",
          "output_type": "stream",
          "text": [
            "100%|██████████| 20/20 [00:01<00:00, 10.04it/s]\n"
          ]
        },
        {
          "name": "stdout",
          "output_type": "stream",
          "text": [
            "Epoch 28/100 | Train Loss: 1.1850 | Val Loss: 2.8830 | Val Acc: 0.6562\n"
          ]
        },
        {
          "name": "stderr",
          "output_type": "stream",
          "text": [
            "100%|██████████| 20/20 [00:02<00:00,  9.95it/s]\n"
          ]
        },
        {
          "name": "stdout",
          "output_type": "stream",
          "text": [
            "Epoch 29/100 | Train Loss: 1.1888 | Val Loss: 1.9426 | Val Acc: 0.6438\n"
          ]
        },
        {
          "name": "stderr",
          "output_type": "stream",
          "text": [
            "100%|██████████| 20/20 [00:02<00:00,  9.83it/s]\n"
          ]
        },
        {
          "name": "stdout",
          "output_type": "stream",
          "text": [
            "Epoch 30/100 | Train Loss: 0.6275 | Val Loss: 1.8063 | Val Acc: 0.6812\n"
          ]
        },
        {
          "name": "stderr",
          "output_type": "stream",
          "text": [
            "100%|██████████| 20/20 [00:02<00:00,  9.90it/s]\n"
          ]
        },
        {
          "name": "stdout",
          "output_type": "stream",
          "text": [
            "Epoch 31/100 | Train Loss: 0.5776 | Val Loss: 2.1453 | Val Acc: 0.6562\n"
          ]
        },
        {
          "name": "stderr",
          "output_type": "stream",
          "text": [
            "100%|██████████| 20/20 [00:01<00:00, 10.06it/s]\n"
          ]
        },
        {
          "name": "stdout",
          "output_type": "stream",
          "text": [
            "Epoch 32/100 | Train Loss: 1.2706 | Val Loss: 1.9699 | Val Acc: 0.7125\n"
          ]
        },
        {
          "name": "stderr",
          "output_type": "stream",
          "text": [
            "100%|██████████| 20/20 [00:02<00:00,  9.91it/s]\n"
          ]
        },
        {
          "name": "stdout",
          "output_type": "stream",
          "text": [
            "Epoch 33/100 | Train Loss: 0.5295 | Val Loss: 2.0375 | Val Acc: 0.6562\n"
          ]
        },
        {
          "name": "stderr",
          "output_type": "stream",
          "text": [
            "100%|██████████| 20/20 [00:01<00:00, 10.20it/s]\n"
          ]
        },
        {
          "name": "stdout",
          "output_type": "stream",
          "text": [
            "Epoch 34/100 | Train Loss: 1.2314 | Val Loss: 2.0540 | Val Acc: 0.6750\n"
          ]
        },
        {
          "name": "stderr",
          "output_type": "stream",
          "text": [
            "100%|██████████| 20/20 [00:02<00:00,  9.91it/s]\n"
          ]
        },
        {
          "name": "stdout",
          "output_type": "stream",
          "text": [
            "Epoch 35/100 | Train Loss: 0.4903 | Val Loss: 1.8442 | Val Acc: 0.6938\n"
          ]
        },
        {
          "name": "stderr",
          "output_type": "stream",
          "text": [
            "100%|██████████| 20/20 [00:02<00:00,  9.98it/s]\n"
          ]
        },
        {
          "name": "stdout",
          "output_type": "stream",
          "text": [
            "Epoch 36/100 | Train Loss: 0.5316 | Val Loss: 1.8246 | Val Acc: 0.7063\n"
          ]
        },
        {
          "name": "stderr",
          "output_type": "stream",
          "text": [
            "100%|██████████| 20/20 [00:02<00:00,  9.95it/s]\n"
          ]
        },
        {
          "name": "stdout",
          "output_type": "stream",
          "text": [
            "Epoch 37/100 | Train Loss: 0.2429 | Val Loss: 1.9751 | Val Acc: 0.6875\n"
          ]
        },
        {
          "name": "stderr",
          "output_type": "stream",
          "text": [
            "100%|██████████| 20/20 [00:01<00:00, 10.02it/s]\n"
          ]
        },
        {
          "name": "stdout",
          "output_type": "stream",
          "text": [
            "Epoch 38/100 | Train Loss: 0.4150 | Val Loss: 2.1189 | Val Acc: 0.6438\n"
          ]
        },
        {
          "name": "stderr",
          "output_type": "stream",
          "text": [
            "100%|██████████| 20/20 [00:02<00:00,  9.97it/s]\n"
          ]
        },
        {
          "name": "stdout",
          "output_type": "stream",
          "text": [
            "Epoch 39/100 | Train Loss: 1.2581 | Val Loss: 1.6701 | Val Acc: 0.6687\n"
          ]
        },
        {
          "name": "stderr",
          "output_type": "stream",
          "text": [
            "100%|██████████| 20/20 [00:02<00:00,  9.86it/s]\n"
          ]
        },
        {
          "name": "stdout",
          "output_type": "stream",
          "text": [
            "Epoch 40/100 | Train Loss: 0.0526 | Val Loss: 1.7559 | Val Acc: 0.6625\n"
          ]
        },
        {
          "name": "stderr",
          "output_type": "stream",
          "text": [
            "100%|██████████| 20/20 [00:02<00:00, 10.00it/s]\n"
          ]
        },
        {
          "name": "stdout",
          "output_type": "stream",
          "text": [
            "Epoch 41/100 | Train Loss: 0.6838 | Val Loss: 2.0116 | Val Acc: 0.6750\n"
          ]
        },
        {
          "name": "stderr",
          "output_type": "stream",
          "text": [
            "100%|██████████| 20/20 [00:02<00:00,  9.98it/s]\n"
          ]
        },
        {
          "name": "stdout",
          "output_type": "stream",
          "text": [
            "Epoch 42/100 | Train Loss: 0.3010 | Val Loss: 2.0307 | Val Acc: 0.6687\n"
          ]
        },
        {
          "name": "stderr",
          "output_type": "stream",
          "text": [
            "100%|██████████| 20/20 [00:01<00:00, 10.10it/s]\n"
          ]
        },
        {
          "name": "stdout",
          "output_type": "stream",
          "text": [
            "Epoch 43/100 | Train Loss: 0.9508 | Val Loss: 1.9985 | Val Acc: 0.6875\n"
          ]
        },
        {
          "name": "stderr",
          "output_type": "stream",
          "text": [
            "100%|██████████| 20/20 [00:01<00:00, 10.00it/s]\n"
          ]
        },
        {
          "name": "stdout",
          "output_type": "stream",
          "text": [
            "Epoch 44/100 | Train Loss: 0.5234 | Val Loss: 1.9861 | Val Acc: 0.7063\n"
          ]
        },
        {
          "name": "stderr",
          "output_type": "stream",
          "text": [
            "100%|██████████| 20/20 [00:01<00:00, 10.02it/s]\n"
          ]
        },
        {
          "name": "stdout",
          "output_type": "stream",
          "text": [
            "Epoch 45/100 | Train Loss: 1.1006 | Val Loss: 1.8777 | Val Acc: 0.6938\n"
          ]
        },
        {
          "name": "stderr",
          "output_type": "stream",
          "text": [
            "100%|██████████| 20/20 [00:02<00:00,  9.90it/s]\n"
          ]
        },
        {
          "name": "stdout",
          "output_type": "stream",
          "text": [
            "Epoch 46/100 | Train Loss: 0.9146 | Val Loss: 1.6974 | Val Acc: 0.6938\n"
          ]
        },
        {
          "name": "stderr",
          "output_type": "stream",
          "text": [
            "100%|██████████| 20/20 [00:01<00:00, 10.00it/s]\n"
          ]
        },
        {
          "name": "stdout",
          "output_type": "stream",
          "text": [
            "Epoch 47/100 | Train Loss: 0.1282 | Val Loss: 1.6883 | Val Acc: 0.7000\n"
          ]
        },
        {
          "name": "stderr",
          "output_type": "stream",
          "text": [
            "100%|██████████| 20/20 [00:02<00:00,  9.85it/s]\n"
          ]
        },
        {
          "name": "stdout",
          "output_type": "stream",
          "text": [
            "Epoch 48/100 | Train Loss: 0.2396 | Val Loss: 1.6791 | Val Acc: 0.6625\n"
          ]
        },
        {
          "name": "stderr",
          "output_type": "stream",
          "text": [
            "100%|██████████| 20/20 [00:02<00:00, 10.00it/s]\n"
          ]
        },
        {
          "name": "stdout",
          "output_type": "stream",
          "text": [
            "Epoch 49/100 | Train Loss: 0.5186 | Val Loss: 1.8833 | Val Acc: 0.6875\n"
          ]
        },
        {
          "name": "stderr",
          "output_type": "stream",
          "text": [
            "100%|██████████| 20/20 [00:01<00:00, 10.02it/s]\n"
          ]
        },
        {
          "name": "stdout",
          "output_type": "stream",
          "text": [
            "Epoch 50/100 | Train Loss: 0.7054 | Val Loss: 2.0031 | Val Acc: 0.6938\n"
          ]
        },
        {
          "name": "stderr",
          "output_type": "stream",
          "text": [
            "100%|██████████| 20/20 [00:01<00:00, 10.01it/s]\n"
          ]
        },
        {
          "name": "stdout",
          "output_type": "stream",
          "text": [
            "Epoch 51/100 | Train Loss: 0.7549 | Val Loss: 1.5830 | Val Acc: 0.7125\n"
          ]
        },
        {
          "name": "stderr",
          "output_type": "stream",
          "text": [
            "100%|██████████| 20/20 [00:02<00:00,  9.92it/s]\n"
          ]
        },
        {
          "name": "stdout",
          "output_type": "stream",
          "text": [
            "Epoch 52/100 | Train Loss: 1.0357 | Val Loss: 1.8480 | Val Acc: 0.6625\n"
          ]
        },
        {
          "name": "stderr",
          "output_type": "stream",
          "text": [
            "100%|██████████| 20/20 [00:01<00:00, 10.02it/s]\n"
          ]
        },
        {
          "name": "stdout",
          "output_type": "stream",
          "text": [
            "Epoch 53/100 | Train Loss: 0.1222 | Val Loss: 1.8085 | Val Acc: 0.6875\n"
          ]
        },
        {
          "name": "stderr",
          "output_type": "stream",
          "text": [
            "100%|██████████| 20/20 [00:01<00:00, 10.00it/s]\n"
          ]
        },
        {
          "name": "stdout",
          "output_type": "stream",
          "text": [
            "Epoch 54/100 | Train Loss: 0.1259 | Val Loss: 1.7904 | Val Acc: 0.7312\n"
          ]
        },
        {
          "name": "stderr",
          "output_type": "stream",
          "text": [
            "100%|██████████| 20/20 [00:02<00:00,  9.99it/s]\n"
          ]
        },
        {
          "name": "stdout",
          "output_type": "stream",
          "text": [
            "Epoch 55/100 | Train Loss: 0.3481 | Val Loss: 1.7213 | Val Acc: 0.7250\n"
          ]
        },
        {
          "name": "stderr",
          "output_type": "stream",
          "text": [
            "100%|██████████| 20/20 [00:02<00:00,  9.96it/s]\n"
          ]
        },
        {
          "name": "stdout",
          "output_type": "stream",
          "text": [
            "Epoch 56/100 | Train Loss: 0.5425 | Val Loss: 1.7589 | Val Acc: 0.7000\n"
          ]
        },
        {
          "name": "stderr",
          "output_type": "stream",
          "text": [
            "100%|██████████| 20/20 [00:01<00:00, 10.05it/s]\n"
          ]
        },
        {
          "name": "stdout",
          "output_type": "stream",
          "text": [
            "Epoch 57/100 | Train Loss: 0.1495 | Val Loss: 1.8452 | Val Acc: 0.7188\n"
          ]
        },
        {
          "name": "stderr",
          "output_type": "stream",
          "text": [
            "100%|██████████| 20/20 [00:01<00:00, 10.08it/s]\n"
          ]
        },
        {
          "name": "stdout",
          "output_type": "stream",
          "text": [
            "Epoch 58/100 | Train Loss: 0.1663 | Val Loss: 1.7203 | Val Acc: 0.7312\n"
          ]
        },
        {
          "name": "stderr",
          "output_type": "stream",
          "text": [
            "100%|██████████| 20/20 [00:01<00:00, 10.03it/s]\n"
          ]
        },
        {
          "name": "stdout",
          "output_type": "stream",
          "text": [
            "Epoch 59/100 | Train Loss: 0.1260 | Val Loss: 1.7481 | Val Acc: 0.7188\n"
          ]
        },
        {
          "name": "stderr",
          "output_type": "stream",
          "text": [
            "100%|██████████| 20/20 [00:02<00:00,  9.98it/s]\n"
          ]
        },
        {
          "name": "stdout",
          "output_type": "stream",
          "text": [
            "Epoch 60/100 | Train Loss: 0.0710 | Val Loss: 1.9552 | Val Acc: 0.7063\n"
          ]
        },
        {
          "name": "stderr",
          "output_type": "stream",
          "text": [
            "100%|██████████| 20/20 [00:01<00:00, 10.09it/s]\n"
          ]
        },
        {
          "name": "stdout",
          "output_type": "stream",
          "text": [
            "Epoch 61/100 | Train Loss: 0.2699 | Val Loss: 1.8483 | Val Acc: 0.7188\n"
          ]
        },
        {
          "name": "stderr",
          "output_type": "stream",
          "text": [
            "100%|██████████| 20/20 [00:01<00:00, 10.15it/s]\n"
          ]
        },
        {
          "name": "stdout",
          "output_type": "stream",
          "text": [
            "Epoch 62/100 | Train Loss: 0.3520 | Val Loss: 1.7877 | Val Acc: 0.7250\n"
          ]
        },
        {
          "name": "stderr",
          "output_type": "stream",
          "text": [
            "100%|██████████| 20/20 [00:02<00:00,  9.92it/s]\n"
          ]
        },
        {
          "name": "stdout",
          "output_type": "stream",
          "text": [
            "Epoch 63/100 | Train Loss: 0.1146 | Val Loss: 1.8370 | Val Acc: 0.7063\n"
          ]
        },
        {
          "name": "stderr",
          "output_type": "stream",
          "text": [
            "100%|██████████| 20/20 [00:02<00:00,  9.96it/s]\n"
          ]
        },
        {
          "name": "stdout",
          "output_type": "stream",
          "text": [
            "Epoch 64/100 | Train Loss: 0.6970 | Val Loss: 1.7549 | Val Acc: 0.7312\n"
          ]
        },
        {
          "name": "stderr",
          "output_type": "stream",
          "text": [
            "100%|██████████| 20/20 [00:02<00:00,  9.95it/s]\n"
          ]
        },
        {
          "name": "stdout",
          "output_type": "stream",
          "text": [
            "Epoch 65/100 | Train Loss: 0.5902 | Val Loss: 1.5775 | Val Acc: 0.7000\n"
          ]
        },
        {
          "name": "stderr",
          "output_type": "stream",
          "text": [
            "100%|██████████| 20/20 [00:01<00:00, 10.12it/s]\n"
          ]
        },
        {
          "name": "stdout",
          "output_type": "stream",
          "text": [
            "Epoch 66/100 | Train Loss: 0.1900 | Val Loss: 1.7481 | Val Acc: 0.7312\n"
          ]
        },
        {
          "name": "stderr",
          "output_type": "stream",
          "text": [
            "100%|██████████| 20/20 [00:02<00:00,  9.76it/s]\n"
          ]
        },
        {
          "name": "stdout",
          "output_type": "stream",
          "text": [
            "Epoch 67/100 | Train Loss: 0.1868 | Val Loss: 1.6590 | Val Acc: 0.7125\n"
          ]
        },
        {
          "name": "stderr",
          "output_type": "stream",
          "text": [
            "100%|██████████| 20/20 [00:01<00:00, 10.03it/s]\n"
          ]
        },
        {
          "name": "stdout",
          "output_type": "stream",
          "text": [
            "Epoch 68/100 | Train Loss: 0.5015 | Val Loss: 1.6788 | Val Acc: 0.7125\n"
          ]
        },
        {
          "name": "stderr",
          "output_type": "stream",
          "text": [
            "100%|██████████| 20/20 [00:02<00:00,  9.98it/s]\n"
          ]
        },
        {
          "name": "stdout",
          "output_type": "stream",
          "text": [
            "Epoch 69/100 | Train Loss: 0.7457 | Val Loss: 1.6843 | Val Acc: 0.7563\n"
          ]
        },
        {
          "name": "stderr",
          "output_type": "stream",
          "text": [
            "100%|██████████| 20/20 [00:02<00:00,  9.99it/s]\n"
          ]
        },
        {
          "name": "stdout",
          "output_type": "stream",
          "text": [
            "Epoch 70/100 | Train Loss: 0.2377 | Val Loss: 1.6040 | Val Acc: 0.7063\n"
          ]
        },
        {
          "name": "stderr",
          "output_type": "stream",
          "text": [
            "100%|██████████| 20/20 [00:01<00:00, 10.05it/s]\n"
          ]
        },
        {
          "name": "stdout",
          "output_type": "stream",
          "text": [
            "Epoch 71/100 | Train Loss: 0.0912 | Val Loss: 1.5627 | Val Acc: 0.7125\n"
          ]
        },
        {
          "name": "stderr",
          "output_type": "stream",
          "text": [
            "100%|██████████| 20/20 [00:02<00:00,  9.80it/s]\n"
          ]
        },
        {
          "name": "stdout",
          "output_type": "stream",
          "text": [
            "Epoch 72/100 | Train Loss: 0.0951 | Val Loss: 1.4599 | Val Acc: 0.7063\n"
          ]
        },
        {
          "name": "stderr",
          "output_type": "stream",
          "text": [
            "100%|██████████| 20/20 [00:02<00:00,  9.85it/s]\n"
          ]
        },
        {
          "name": "stdout",
          "output_type": "stream",
          "text": [
            "Epoch 73/100 | Train Loss: 0.9061 | Val Loss: 1.6337 | Val Acc: 0.7000\n"
          ]
        },
        {
          "name": "stderr",
          "output_type": "stream",
          "text": [
            "100%|██████████| 20/20 [00:02<00:00,  9.64it/s]\n"
          ]
        },
        {
          "name": "stdout",
          "output_type": "stream",
          "text": [
            "Epoch 74/100 | Train Loss: 0.2199 | Val Loss: 1.8247 | Val Acc: 0.7063\n"
          ]
        },
        {
          "name": "stderr",
          "output_type": "stream",
          "text": [
            "100%|██████████| 20/20 [00:02<00:00,  9.87it/s]\n"
          ]
        },
        {
          "name": "stdout",
          "output_type": "stream",
          "text": [
            "Epoch 75/100 | Train Loss: 0.1832 | Val Loss: 1.8886 | Val Acc: 0.6938\n"
          ]
        },
        {
          "name": "stderr",
          "output_type": "stream",
          "text": [
            "100%|██████████| 20/20 [00:02<00:00,  9.91it/s]\n"
          ]
        },
        {
          "name": "stdout",
          "output_type": "stream",
          "text": [
            "Epoch 76/100 | Train Loss: 0.4286 | Val Loss: 1.7828 | Val Acc: 0.7312\n"
          ]
        },
        {
          "name": "stderr",
          "output_type": "stream",
          "text": [
            "100%|██████████| 20/20 [00:01<00:00, 10.10it/s]\n"
          ]
        },
        {
          "name": "stdout",
          "output_type": "stream",
          "text": [
            "Epoch 77/100 | Train Loss: 0.0912 | Val Loss: 1.6909 | Val Acc: 0.6750\n"
          ]
        },
        {
          "name": "stderr",
          "output_type": "stream",
          "text": [
            "100%|██████████| 20/20 [00:01<00:00, 10.14it/s]\n"
          ]
        },
        {
          "name": "stdout",
          "output_type": "stream",
          "text": [
            "Epoch 78/100 | Train Loss: 0.0868 | Val Loss: 1.7240 | Val Acc: 0.7063\n"
          ]
        },
        {
          "name": "stderr",
          "output_type": "stream",
          "text": [
            "100%|██████████| 20/20 [00:02<00:00,  9.92it/s]\n"
          ]
        },
        {
          "name": "stdout",
          "output_type": "stream",
          "text": [
            "Epoch 79/100 | Train Loss: 0.3404 | Val Loss: 1.5461 | Val Acc: 0.7375\n"
          ]
        },
        {
          "name": "stderr",
          "output_type": "stream",
          "text": [
            "100%|██████████| 20/20 [00:01<00:00, 10.01it/s]\n"
          ]
        },
        {
          "name": "stdout",
          "output_type": "stream",
          "text": [
            "Epoch 80/100 | Train Loss: 0.0850 | Val Loss: 1.6930 | Val Acc: 0.7125\n"
          ]
        },
        {
          "name": "stderr",
          "output_type": "stream",
          "text": [
            "100%|██████████| 20/20 [00:01<00:00, 10.08it/s]\n"
          ]
        },
        {
          "name": "stdout",
          "output_type": "stream",
          "text": [
            "Epoch 81/100 | Train Loss: 0.0397 | Val Loss: 1.5025 | Val Acc: 0.7625\n"
          ]
        },
        {
          "name": "stderr",
          "output_type": "stream",
          "text": [
            "100%|██████████| 20/20 [00:01<00:00, 10.05it/s]\n"
          ]
        },
        {
          "name": "stdout",
          "output_type": "stream",
          "text": [
            "Epoch 82/100 | Train Loss: 0.0366 | Val Loss: 1.7685 | Val Acc: 0.6938\n"
          ]
        },
        {
          "name": "stderr",
          "output_type": "stream",
          "text": [
            "100%|██████████| 20/20 [00:02<00:00,  9.94it/s]\n"
          ]
        },
        {
          "name": "stdout",
          "output_type": "stream",
          "text": [
            "Epoch 83/100 | Train Loss: 0.6407 | Val Loss: 1.5791 | Val Acc: 0.7188\n"
          ]
        },
        {
          "name": "stderr",
          "output_type": "stream",
          "text": [
            "100%|██████████| 20/20 [00:02<00:00,  9.89it/s]\n"
          ]
        },
        {
          "name": "stdout",
          "output_type": "stream",
          "text": [
            "Epoch 84/100 | Train Loss: 0.3409 | Val Loss: 1.6204 | Val Acc: 0.7563\n"
          ]
        },
        {
          "name": "stderr",
          "output_type": "stream",
          "text": [
            "100%|██████████| 20/20 [00:02<00:00,  9.98it/s]\n"
          ]
        },
        {
          "name": "stdout",
          "output_type": "stream",
          "text": [
            "Epoch 85/100 | Train Loss: 0.0592 | Val Loss: 1.5673 | Val Acc: 0.6687\n"
          ]
        },
        {
          "name": "stderr",
          "output_type": "stream",
          "text": [
            "100%|██████████| 20/20 [00:02<00:00,  9.94it/s]\n"
          ]
        },
        {
          "name": "stdout",
          "output_type": "stream",
          "text": [
            "Epoch 86/100 | Train Loss: 0.3169 | Val Loss: 1.5237 | Val Acc: 0.7250\n"
          ]
        },
        {
          "name": "stderr",
          "output_type": "stream",
          "text": [
            "100%|██████████| 20/20 [00:02<00:00,  9.90it/s]\n"
          ]
        },
        {
          "name": "stdout",
          "output_type": "stream",
          "text": [
            "Epoch 87/100 | Train Loss: 0.0986 | Val Loss: 1.5840 | Val Acc: 0.7063\n"
          ]
        },
        {
          "name": "stderr",
          "output_type": "stream",
          "text": [
            "100%|██████████| 20/20 [00:02<00:00,  9.90it/s]\n"
          ]
        },
        {
          "name": "stdout",
          "output_type": "stream",
          "text": [
            "Epoch 88/100 | Train Loss: 0.0630 | Val Loss: 1.6281 | Val Acc: 0.6938\n"
          ]
        },
        {
          "name": "stderr",
          "output_type": "stream",
          "text": [
            "100%|██████████| 20/20 [00:02<00:00,  9.81it/s]\n"
          ]
        },
        {
          "name": "stdout",
          "output_type": "stream",
          "text": [
            "Epoch 89/100 | Train Loss: 0.1879 | Val Loss: 1.6680 | Val Acc: 0.7312\n"
          ]
        },
        {
          "name": "stderr",
          "output_type": "stream",
          "text": [
            "100%|██████████| 20/20 [00:02<00:00,  9.77it/s]\n"
          ]
        },
        {
          "name": "stdout",
          "output_type": "stream",
          "text": [
            "Epoch 90/100 | Train Loss: 0.1612 | Val Loss: 1.7295 | Val Acc: 0.7250\n"
          ]
        },
        {
          "name": "stderr",
          "output_type": "stream",
          "text": [
            "100%|██████████| 20/20 [00:02<00:00,  9.85it/s]\n"
          ]
        },
        {
          "name": "stdout",
          "output_type": "stream",
          "text": [
            "Epoch 91/100 | Train Loss: 0.1454 | Val Loss: 1.3907 | Val Acc: 0.7375\n"
          ]
        },
        {
          "name": "stderr",
          "output_type": "stream",
          "text": [
            "100%|██████████| 20/20 [00:02<00:00,  9.86it/s]\n"
          ]
        },
        {
          "name": "stdout",
          "output_type": "stream",
          "text": [
            "Epoch 92/100 | Train Loss: 0.0148 | Val Loss: 1.7017 | Val Acc: 0.7125\n"
          ]
        },
        {
          "name": "stderr",
          "output_type": "stream",
          "text": [
            "100%|██████████| 20/20 [00:02<00:00,  9.92it/s]\n"
          ]
        },
        {
          "name": "stdout",
          "output_type": "stream",
          "text": [
            "Epoch 93/100 | Train Loss: 0.0838 | Val Loss: 1.6663 | Val Acc: 0.7188\n"
          ]
        },
        {
          "name": "stderr",
          "output_type": "stream",
          "text": [
            "100%|██████████| 20/20 [00:02<00:00,  9.94it/s]\n"
          ]
        },
        {
          "name": "stdout",
          "output_type": "stream",
          "text": [
            "Epoch 94/100 | Train Loss: 0.0255 | Val Loss: 1.5379 | Val Acc: 0.7312\n"
          ]
        },
        {
          "name": "stderr",
          "output_type": "stream",
          "text": [
            "100%|██████████| 20/20 [00:02<00:00,  9.84it/s]\n"
          ]
        },
        {
          "name": "stdout",
          "output_type": "stream",
          "text": [
            "Epoch 95/100 | Train Loss: 0.3768 | Val Loss: 1.5364 | Val Acc: 0.7563\n"
          ]
        },
        {
          "name": "stderr",
          "output_type": "stream",
          "text": [
            "100%|██████████| 20/20 [00:02<00:00,  9.95it/s]\n"
          ]
        },
        {
          "name": "stdout",
          "output_type": "stream",
          "text": [
            "Epoch 96/100 | Train Loss: 0.1110 | Val Loss: 1.4238 | Val Acc: 0.7312\n"
          ]
        },
        {
          "name": "stderr",
          "output_type": "stream",
          "text": [
            "100%|██████████| 20/20 [00:02<00:00,  9.95it/s]\n"
          ]
        },
        {
          "name": "stdout",
          "output_type": "stream",
          "text": [
            "Epoch 97/100 | Train Loss: 0.0983 | Val Loss: 1.7934 | Val Acc: 0.7063\n"
          ]
        },
        {
          "name": "stderr",
          "output_type": "stream",
          "text": [
            "100%|██████████| 20/20 [00:02<00:00,  9.92it/s]\n"
          ]
        },
        {
          "name": "stdout",
          "output_type": "stream",
          "text": [
            "Epoch 98/100 | Train Loss: 0.0865 | Val Loss: 1.5431 | Val Acc: 0.7437\n"
          ]
        },
        {
          "name": "stderr",
          "output_type": "stream",
          "text": [
            "100%|██████████| 20/20 [00:01<00:00, 10.17it/s]\n"
          ]
        },
        {
          "name": "stdout",
          "output_type": "stream",
          "text": [
            "Epoch 99/100 | Train Loss: 0.0180 | Val Loss: 1.7785 | Val Acc: 0.7125\n"
          ]
        },
        {
          "name": "stderr",
          "output_type": "stream",
          "text": [
            "100%|██████████| 20/20 [00:02<00:00,  9.94it/s]\n"
          ]
        },
        {
          "name": "stdout",
          "output_type": "stream",
          "text": [
            "Epoch 100/100 | Train Loss: 0.1714 | Val Loss: 1.7666 | Val Acc: 0.7500\n"
          ]
        }
      ],
      "source": [
        "np.random.seed(SEED)\n",
        "torch.manual_seed(SEED)\n",
        "\n",
        "# Load the best contrastive embedding model\n",
        "contrastive_embedder_model = GTZANContrastiveModelLarge(128)\n",
        "contrastive_embedder_model.load_state_dict(torch.load(contrastive_output_dir / 'best.pth'))\n",
        "\n",
        "# Check if the model already exists\n",
        "if (contrastive_classifier_embedder_only_output_dir / 'best.pth').exists():\n",
        "    res = input(\"Contrastive classifier (embeddings) model exists. Enter y to overwrite: \")\n",
        "    if res.lower() != 'y':\n",
        "        raise Exception(\"Model exists\")\n",
        "\n",
        "# Return to the original dataset to train the classifier\n",
        "fold_generator = gtzan_generate_folds(audio_tensors, genres, references_sample_rate, mask_prob=0.8)\n",
        "train_dataset, val_dataset = next(fold_generator)\n",
        "\n",
        "train_loader = DataLoader(train_dataset, batch_size=32, shuffle=True)\n",
        "val_loader = DataLoader(val_dataset, batch_size=32, shuffle=False)\n",
        "\n",
        "contrastive_classifier_embedder_only = ContrastiveClassificationModel_2(contrastive_embedder_model.backbone, len(audio_tensors), embedding_dim=1024)\n",
        "contrastive_classifier_embedder_only = contrastive_classifier_embedder_only.to(device)\n",
        "cont_emb_t_loss, cont_emb_v_loss, cont_emb_v_acc = train_base_gtzan_classifier(contrastive_classifier_embedder_only, train_loader, val_loader, epochs=100, learning_rate=0.001, output_dir=contrastive_classifier_embedder_only_output_dir)"
      ]
    },
    {
      "cell_type": "code",
      "execution_count": 34,
      "metadata": {},
      "outputs": [
        {
          "data": {
            "image/png": "[encoded data removed]",
            "text/plain": [
              "<Figure size 1000x500 with 1 Axes>"
            ]
          },
          "metadata": {},
          "output_type": "display_data"
        },
        {
          "data": {
            "image/png": "[encoded data removed]",
            "text/plain": [
              "<Figure size 1000x500 with 1 Axes>"
            ]
          },
          "metadata": {},
          "output_type": "display_data"
        }
      ],
      "source": [
        "# Plot the loss and accuracy\n",
        "contrastive_classifier_loss_fig, contrastive_classifier_loss_axs = plt.subplots(1, 1, figsize=(10, 5))\n",
        "contrastive_classifier_loss_axs.plot(*zip(*cont_emb_t_loss), label='Training Loss')\n",
        "contrastive_classifier_loss_axs.plot(*zip(*cont_emb_v_loss), label='Validation Loss')\n",
        "contrastive_classifier_loss_axs.legend()\n",
        "contrastive_classifier_loss_axs.set_xlabel('Step')\n",
        "contrastive_classifier_loss_axs.set_ylabel('Cross Entropy Loss')\n",
        "plt.show()\n",
        "\n",
        "contrastive_classifier_acc_fig, contrastive_classifier_acc_axs = plt.subplots(1, 1, figsize=(10, 5))\n",
        "contrastive_classifier_acc_axs.plot(*zip(*cont_emb_v_acc), label='Validation Accuracy')\n",
        "contrastive_classifier_acc_axs.legend()\n",
        "contrastive_classifier_acc_axs.set_xlabel('Step')\n",
        "contrastive_classifier_acc_axs.set_ylabel('Accuracy')\n",
        "plt.show()"
      ]
    },
    {
      "cell_type": "code",
      "execution_count": null,
      "metadata": {},
      "outputs": [],
      "source": [
        "cont_acc = cont_v_acc[-1][1]\n",
        "print(f\"Average accuracy over folds: {cont_acc:.4f}\")"
      ]
    },
    {
      "cell_type": "code",
      "execution_count": null,
      "metadata": {},
      "outputs": [],
      "source": [
        "# Delete the classification models\n",
        "del contrastive_classifier\n",
        "del contrastive_classifier_embedder_only\n",
        "\n",
        "# Clear the cache\n",
        "if device == torch.device(\"cuda\"):\n",
        "    torch.cuda.empty_cache()\n",
        "elif device == torch.device(\"mps\"):\n",
        "    torch.mps.empty_cache()"
      ]
    },
    {
      "cell_type": "markdown",
      "metadata": {
        "id": "2HsfhA6q-6e7"
      },
      "source": [
        "# Baseline Model\n",
        "This section computes classical features for the songs and uses a random forest classifier to predict the genre."
      ]
    },
    {
      "cell_type": "markdown",
      "metadata": {
        "id": "nbj0eqIH_Q9r"
      },
      "source": [
        "The first step is to compute the features for each song."
      ]
    },
    {
      "cell_type": "code",
      "execution_count": null,
      "metadata": {
        "id": "VoXvRULS-86v"
      },
      "outputs": [],
      "source": [
        "feature_tensors = {}\n",
        "for i, genre in enumerate(genres):\n",
        "    print(f\"Computing features for {genre}\")\n",
        "    feature_tensors[genre_index_map[genre]] = []\n",
        "    for waveform in tqdm(audio_tensors[i]):\n",
        "        zcr = get_zero_crossing_rate(waveform, references_sample_rate)\n",
        "        spectral_centroid = get_spectral_centroid(waveform, references_sample_rate)\n",
        "        spectral_rolloff = get_spectral_rolloff(waveform, references_sample_rate)\n",
        "        spectral_contrast = get_spectral_contrast(waveform, references_sample_rate)\n",
        "        spectral_bandwidth = get_spectral_bandwidth(waveform, references_sample_rate)\n",
        "        feature_tensors[genre_index_map[genre]].append({\n",
        "            'zcr': zcr,\n",
        "            'spectral_centroid': spectral_centroid,\n",
        "            'spectral_rolloff': spectral_rolloff,\n",
        "            'spectral_contrast': spectral_contrast,\n",
        "            'spectral_bandwidth': spectral_bandwidth\n",
        "        })"
      ]
    },
    {
      "cell_type": "markdown",
      "metadata": {},
      "source": [
        "Then we use the raw timeseries that produces to compute summary statistics for each of the features."
      ]
    },
    {
      "cell_type": "code",
      "execution_count": null,
      "metadata": {
        "colab": {
          "base_uri": "https://localhost:8080/"
        },
        "id": "xnT-e2KRDBMc",
        "outputId": "82563fed-4a92-4a62-8b64-e2d0a4ba8250"
      },
      "outputs": [],
      "source": [
        "feature_stats_tensors = {}\n",
        "for genre in genres:\n",
        "    feature_stats_tensors[genre_index_map[genre]] = []\n",
        "    for features in tqdm(feature_tensors[genre_index_map[genre]]):\n",
        "        features_stats = {}\n",
        "        for feature_name, feature in features.items():\n",
        "            features_stats[feature_name] = (np.mean(feature), np.std(feature))\n",
        "        feature_stats_tensors[genre_index_map[genre]].append(features_stats)"
      ]
    },
    {
      "cell_type": "code",
      "execution_count": null,
      "metadata": {
        "id": "8FpLk2poDqr0"
      },
      "outputs": [],
      "source": [
        "def generate_feature_stats_folds(feature_stats_tensor, genres, k_folds=5):\n",
        "    \"\"\"\n",
        "    Defines a generator that yields train and val datasets for each fold.\n",
        "    \"\"\"\n",
        "    # First, we get a single list that includes all tensors\n",
        "    X = []\n",
        "    y = []\n",
        "    for genre in genres:\n",
        "        genre_index = genre_index_map[genre]\n",
        "        for feature_stats in feature_stats_tensor[genre_index]:\n",
        "            stats_order = ['zcr', 'spectral_centroid', 'spectral_rolloff', 'spectral_contrast', 'spectral_bandwidth']\n",
        "            X.append([feature for stat in stats_order for feature in feature_stats[stat]])\n",
        "            y.append(genre_index)\n",
        "\n",
        "    X = np.array(X)\n",
        "    y = np.array(y)\n",
        "\n",
        "    # Then we can use the labels to perform a stratified k-fold split\n",
        "    skf = StratifiedKFold(n_splits=k_folds, shuffle=True, random_state=42)\n",
        "    for train_index, val_index in skf.split(X, y):\n",
        "        t_X = X[train_index]\n",
        "        t_y = y[train_index]\n",
        "        v_X = X[val_index]\n",
        "        v_y = y[val_index]\n",
        "        yield t_X, t_y, v_X, v_y\n"
      ]
    },
    {
      "cell_type": "code",
      "execution_count": null,
      "metadata": {
        "colab": {
          "base_uri": "https://localhost:8080/"
        },
        "id": "nZF7yOfJBSA2",
        "outputId": "b1886ca3-bfb6-41e2-e3ea-18cf021bbc24"
      },
      "outputs": [],
      "source": [
        "from sklearn.ensemble import RandomForestClassifier\n",
        "from sklearn.metrics import accuracy_score\n",
        "\n",
        "accuracies = []\n",
        "\n",
        "for t_X, t_y, v_X, v_y in generate_feature_stats_folds(feature_stats_tensors, genres, k_folds=5):\n",
        "    print(f\"Training on {len(t_X)} samples and validating on {len(v_X)} samples\")\n",
        "    clf = RandomForestClassifier(n_estimators=100, random_state=4)\n",
        "    clf.fit(t_X, t_y)\n",
        "    y_pred = clf.predict(v_X)\n",
        "    acc = accuracy_score(v_y, y_pred)\n",
        "    accuracies.append(acc)\n",
        "\n",
        "    # Save the model\n",
        "    model_output_dir = baseline_random_forest_output_dir / f\"fold_{len(accuracies)}\"\n",
        "    model_output_dir.mkdir(exist_ok=True)\n",
        "\n",
        "    model_output_file = model_output_dir / 'model.pkl'\n",
        "    with open(model_output_file, 'wb') as f:\n",
        "        pickle.dump(clf, f)"
      ]
    },
    {
      "cell_type": "code",
      "execution_count": null,
      "metadata": {
        "colab": {
          "base_uri": "https://localhost:8080/"
        },
        "id": "cRkGwQt4F-cc",
        "outputId": "fc784409-035c-407d-c53a-f8e03d3b01a4"
      },
      "outputs": [],
      "source": [
        "avg_rf_acc = np.mean(accuracies)\n",
        "std_rf_acc = np.std(accuracies)\n",
        "print(f\"Average accuracy over folds: {avg_rf_acc:.4f} +/- {std_rf_acc:.4f}\")"
      ]
    },
    {
      "cell_type": "markdown",
      "metadata": {},
      "source": [
        "# Baseline Model Applied to Contrastive Embeddings\n",
        "Classical classification algorithms often outperform MLP models when taking embeddings from autoencoders or contrastive models. Along with training MLPs on the outputs of the contrastive model, we also train a random forest classifier on the logits from the contrastive model."
      ]
    },
    {
      "cell_type": "code",
      "execution_count": null,
      "metadata": {},
      "outputs": [],
      "source": [
        "# We also do the same thing with the contrastive model. Here we split the waveform into 10s windows and evaluate the contrastive model over each.\n",
        "# We save the embeddings for each window in a tuple so that the embeddings from the same song are grouped together.\n",
        "# Load the best contrastive embedding model\n",
        "contrastive_embedder_model = GTZANContrastiveModelLarge(128)\n",
        "contrastive_embedder_model.to(device)\n",
        "contrastive_embedder_model.load_state_dict(torch.load(contrastive_output_dir / 'best.pth'))\n",
        "contrastive_embedder_model.eval()\n",
        "\n",
        "with torch.no_grad():\n",
        "    contrastive_embeddings = {}\n",
        "    for i, genre in enumerate(genres):\n",
        "        print(f\"Computing features for {genre}\")\n",
        "        contrastive_embeddings[genre_index_map[genre]] = []\n",
        "        for waveform in tqdm(audio_tensors[i]):\n",
        "            # Split the waveform into 10s windows\n",
        "            window_length = 10 * references_sample_rate\n",
        "            batch = []\n",
        "            for end in range(window_length, waveform.shape[1], references_sample_rate):\n",
        "                start = end - window_length\n",
        "                window = waveform[:, start:end]\n",
        "\n",
        "                mel_spectrogram = get_mel_spectrogram(window, references_sample_rate)\n",
        "\n",
        "                batch.append(mel_spectrogram)\n",
        "            # Convert the batch to a tensor on the device\n",
        "            batch = torch.stack(batch).to(device)\n",
        "            # Pass the batch through the model\n",
        "            embeddings = contrastive_embedder_model.backbone(batch)\n",
        "            # Move embeddings to the cpu\n",
        "            contrastive_embeddings[genre_index_map[genre]].append(embeddings.cpu())\n",
        "\n",
        "            # Delete tensors to free GPU memory\n",
        "            del batch\n",
        "            del embeddings\n",
        "            torch.cuda.empty_cache()"
      ]
    },
    {
      "cell_type": "code",
      "execution_count": null,
      "metadata": {},
      "outputs": [],
      "source": [
        "# Plot the embeddings with colors corresponding to genres\n",
        "# Use PCA to reduce the dimensionality of the embeddings\n",
        "from sklearn.decomposition import PCA\n",
        "from sklearn.manifold import TSNE\n",
        "\n",
        "pca = PCA(n_components=2)\n",
        "tsne = TSNE(n_components=2)\n",
        "\n",
        "# Concatenate the embeddings and the genre labels\n",
        "X = []\n",
        "y = []\n",
        "for genre in genres:\n",
        "    genre_index = genre_index_map[genre]\n",
        "    for embeddings in contrastive_embeddings[genre_index]:\n",
        "        X.append(embeddings.cpu().detach().numpy())\n",
        "        y.append(genre_index)\n",
        "\n",
        "y = np.concatenate([[y[i]] * X[i].shape[0] for i in range(len(X))])\n",
        "X = np.concatenate(X, axis=0)\n",
        "\n",
        "# Perform PCA and TSNE\n",
        "X_pca = pca.fit_transform(X)\n",
        "X_tsne = tsne.fit_transform(X)"
      ]
    },
    {
      "cell_type": "code",
      "execution_count": null,
      "metadata": {},
      "outputs": [],
      "source": [
        "# Plot the PCA and TSNE embeddings\n",
        "fig, axs = plt.subplots(1, 2, figsize=(15, 8))\n",
        "\n",
        "for genre in genres:\n",
        "    genre_index = genre_index_map[genre]\n",
        "    genre_mask = y == genre_index\n",
        "    axs[0].scatter(X_pca[genre_mask, 0], X_pca[genre_mask, 1], label=genre, s=2, alpha=0.5)\n",
        "    axs[1].scatter(X_tsne[genre_mask, 0], X_tsne[genre_mask, 1], label=genre, s=7)\n",
        "\n",
        "axs[0].set_title('PCA Embeddings')\n",
        "axs[1].set_title('TSNE Embeddings')\n",
        "axs[0].legend()\n",
        "axs[1].legend()\n",
        "plt.show()"
      ]
    },
    {
      "cell_type": "code",
      "execution_count": null,
      "metadata": {},
      "outputs": [],
      "source": [
        "# Construct the generator for the folds\n",
        "def generate_contrastive_folds(contrastive_embeddings, genres, k_folds=5):\n",
        "    \"\"\"\n",
        "    Defines a generator that yields train and val datasets for each fold.\n",
        "    \"\"\"\n",
        "    X = []\n",
        "    y = []\n",
        "    for genre in genres:\n",
        "        genre_index = genre_index_map[genre]\n",
        "        for embeddings in contrastive_embeddings[genre_index]:\n",
        "            X.append(embeddings)\n",
        "            y.append(genre_index)\n",
        "\n",
        "    skf = StratifiedKFold(n_splits=k_folds, shuffle=True, random_state=42)\n",
        "    for train_index, val_index in skf.split(X, y):\n",
        "        t_X = torch.cat([X[i] for i in train_index], dim=0)\n",
        "        t_y = torch.cat([torch.tensor([y[i]] * X[i].shape[0]) for i in train_index], dim=0)\n",
        "        v_X = torch.cat([X[i] for i in val_index], dim=0)\n",
        "        v_y = torch.cat([torch.tensor([y[i]] * X[i].shape[0]) for i in val_index], dim=0)\n",
        "        yield t_X, t_y, v_X, v_y"
      ]
    },
    {
      "cell_type": "code",
      "execution_count": null,
      "metadata": {},
      "outputs": [],
      "source": [
        "# Test the contrastive fold generator\n",
        "for t_X, t_y, v_X, v_y in generate_contrastive_folds(contrastive_embeddings, genres, k_folds=5):\n",
        "    print(f\"Training on {t_X.shape} samples and validating on {v_X.shape} samples\")\n",
        "    print(f\"Training on {t_y.shape} samples and validating on {v_y.shape} samples\")\n",
        "    break"
      ]
    },
    {
      "cell_type": "code",
      "execution_count": null,
      "metadata": {},
      "outputs": [],
      "source": [
        "from sklearn.ensemble import RandomForestClassifier\n",
        "from sklearn.metrics import accuracy_score, confusion_matrix\n",
        "\n",
        "# Train the classifier on the contrastive embeddings\n",
        "contrastive_accuracies = []\n",
        "contrastive_confusion_matrices = []\n",
        "for t_X, t_y, v_X, v_y in generate_contrastive_folds(contrastive_embeddings, genres, k_folds=5):\n",
        "    print(f\"Training on {t_X.shape} samples and validating on {v_X.shape} samples\")\n",
        "    clf = RandomForestClassifier(n_estimators=200, random_state=4)\n",
        "    clf.fit(t_X.numpy(), t_y.numpy())\n",
        "    y_pred = clf.predict(v_X.numpy())\n",
        "    acc = accuracy_score(v_y.numpy(), y_pred)\n",
        "    contrastive_accuracies.append(acc)\n",
        "    contrastive_confusion_matrices.append(confusion_matrix(v_y.numpy(), y_pred))\n",
        "\n",
        "    # Save the model\n",
        "    model_output_dir = contrastive_random_forest_output_dir / f\"fold_{len(contrastive_accuracies)}\"\n",
        "    model_output_dir.mkdir(exist_ok=True)\n",
        "\n",
        "    model_output_file = model_output_dir / 'model.pkl'\n",
        "    with open(model_output_file, 'wb') as f:\n",
        "        pickle.dump(clf, f)"
      ]
    },
    {
      "cell_type": "code",
      "execution_count": null,
      "metadata": {},
      "outputs": [],
      "source": [
        "# Plot the confusion matrix\n",
        "fig, axs = plt.subplots(1, 5, figsize=(20, 4))\n",
        "for i in range(5):\n",
        "    axs[i].matshow(contrastive_confusion_matrices[i])\n",
        "    axs[i].set_xlabel('Predicted')\n",
        "    if i == 0:\n",
        "        axs[i].set_ylabel('True')\n",
        "        axs[i].set_yticks(np.arange(len(genres)), genres)\n",
        "    else:\n",
        "        axs[i].set_yticks([])\n",
        "    axs[i].set_xticks(np.arange(len(genres)), genres, rotation=90)\n",
        "    \n",
        "    \n",
        "\n",
        "plt.show()"
      ]
    },
    {
      "cell_type": "code",
      "execution_count": null,
      "metadata": {},
      "outputs": [],
      "source": [
        "# Compute the average accuracy and standard deviation\n",
        "avg_contrastive_acc = np.mean(contrastive_accuracies)\n",
        "std_contrastive_acc = np.std(contrastive_accuracies)\n",
        "print(f\"Average accuracy over folds: {avg_contrastive_acc:.4f} +/- {std_contrastive_acc:.4f}\")"
      ]
    },
    {
      "cell_type": "markdown",
      "metadata": {
        "id": "dT9jtusPnvLf"
      },
      "source": [
        "# Results\n",
        "\n",
        "We selected out a test set when we first loaded the GTZAN dataset which has never been seen by any of the models and which was never used to tune any hyperparameters. We will now compute the accuracy for each of the models on this test set."
      ]
    },
    {
      "cell_type": "code",
      "execution_count": null,
      "metadata": {},
      "outputs": [],
      "source": [
        "def evaluate_model(model):\n",
        "    \"\"\"\n",
        "    Evaluates a model that takes Mel spectrograms as input and returns\n",
        "    a distribution over the genres.\n",
        "    \"\"\"\n",
        "    model.to(device)\n",
        "    criterion = nn.CrossEntropyLoss()\n",
        "\n",
        "    model.eval()\n",
        "    with torch.no_grad():\n",
        "        test_losses = []\n",
        "        test_accuracies = []\n",
        "\n",
        "\n",
        "        for start_prop in np.linspace(0, 1, 11):\n",
        "            gtzan_test_dataset = GTZANDataset(\n",
        "                audio_tensors_test,\n",
        "                genres,\n",
        "                genre_index_map,\n",
        "                references_sample_rate,\n",
        "                mask_prob=0,\n",
        "                randomize=False,\n",
        "                start_prop=start_prop\n",
        "            )\n",
        "            test_loader = DataLoader(gtzan_test_dataset, batch_size=len(gtzan_test_dataset), shuffle=False)\n",
        "\n",
        "            for (waveform, mel_spectrogram, label) in test_loader:\n",
        "                mel_spectrogram = mel_spectrogram.to(device)\n",
        "                label = label.to(device)\n",
        "\n",
        "                output = model(mel_spectrogram)\n",
        "                test_loss = criterion(output, label)\n",
        "                test_losses.append(test_loss.item())\n",
        "                test_acc = (output.argmax(dim=1) == label).float().mean()\n",
        "                test_accuracies.append(test_acc.item())\n",
        "\n",
        "            test_loss = torch.tensor(test_losses).mean()\n",
        "            test_acc = torch.tensor(test_accuracies).mean()\n",
        "\n",
        "    return test_loss, test_acc"
      ]
    },
    {
      "cell_type": "markdown",
      "metadata": {},
      "source": [
        "First, we evaluate the end to end CNN that was trained on GTZAN. We expect that model to perform well as it is trained exclusively on other samples from the same dataset on which we are testing."
      ]
    },
    {
      "cell_type": "code",
      "execution_count": null,
      "metadata": {},
      "outputs": [],
      "source": [
        "def evaluate_baseline_deep_model():\n",
        "    model = GTZANModel(len(audio_tensors))\n",
        "    \n",
        "    fold_folders = list(deep_base_output_dir.glob('fold_*'))\n",
        "    losses = []\n",
        "    accuracies = []\n",
        "    for i, fold_folder in enumerate(fold_folders):\n",
        "        model_path = fold_folder / 'best.pth'\n",
        "        model.load_state_dict(torch.load(model_path))\n",
        "\n",
        "        test_loss, test_acc = evaluate_model(model)\n",
        "        losses.append(test_loss.item())\n",
        "        accuracies.append(test_acc.item())\n",
        "\n",
        "    loss_avg, loss_std = np.mean(losses), np.std(losses)\n",
        "    acc_avg, acc_std = np.mean(accuracies), np.std(accuracies)\n",
        "    return (loss_avg, loss_std), (acc_avg, acc_std)\n",
        "\n",
        "baseline_deep_loss_stats, baseline_deep_acc_stats = evaluate_baseline_deep_model()\n",
        "print(f\"Baseline Deep Model Loss: {baseline_deep_loss_stats[0]:.4f} +/- {baseline_deep_loss_stats[1]:.4f}\")\n",
        "print(f\"Baseline Deep Model Accuracy: {baseline_deep_acc_stats[0]:.4f} +/- {baseline_deep_acc_stats[1]:.4f}\")"
      ]
    },
    {
      "cell_type": "markdown",
      "metadata": {},
      "source": []
    },
    {
      "cell_type": "code",
      "execution_count": null,
      "metadata": {},
      "outputs": [],
      "source": [
        "def evaluate_contrastive_classifier_model():\n",
        "    contrastive_embedder_model = GTZANContrastiveModelLarge(128)\n",
        "    contrastive_classifier = ContrastiveClassificationModel(contrastive_embedder_model, len(audio_tensors))\n",
        "    contrastive_classifier.load_state_dict(torch.load(contrastive_classifier_output_dir / 'best.pth'))\n",
        "\n",
        "    test_loss, test_acc = evaluate_model(contrastive_classifier)\n",
        "    return (test_loss, -1), (test_acc, -1)\n",
        "\n",
        "contrastive_classifier_loss_stats, contrastive_classifier_acc_stats = evaluate_contrastive_classifier_model()\n",
        "print(f\"Contrastive Classifier Model Loss: {contrastive_classifier_loss_stats[0]:.4f}\")\n",
        "print(f\"Contrastive Classifier Model Accuracy: {contrastive_classifier_acc_stats[0]:.4f}\")\n"
      ]
    },
    {
      "cell_type": "code",
      "execution_count": null,
      "metadata": {},
      "outputs": [],
      "source": [
        "def evaluate_contrastive_logit_classifier_model():\n",
        "    contrastive_embedder_model = GTZANContrastiveModelLarge(128)\n",
        "    contrastive_classifier_embedder_only = ContrastiveClassificationModel(contrastive_embedder_model.backbone, len(audio_tensors), embedding_dim=1024)\n",
        "    contrastive_classifier_embedder_only.load_state_dict(torch.load(contrastive_classifier_embedder_only_output_dir / 'best.pth'))\n",
        "\n",
        "    test_loss, test_acc = evaluate_model(contrastive_classifier_embedder_only)\n",
        "    return (test_loss, -1), (test_acc, -1)\n",
        "\n",
        "contrastive_logit_classifier_loss_stats, contrastive_logit_classifier_acc_stats = evaluate_contrastive_logit_classifier_model()\n",
        "print(f\"Contrastive Logit Classifier Model Loss: {contrastive_logit_classifier_loss_stats[0]:.4f}\")\n",
        "print(f\"Contrastive Logit Classifier Model Accuracy: {contrastive_logit_classifier_acc_stats[0]:.4f}\")"
      ]
    },
    {
      "cell_type": "code",
      "execution_count": null,
      "metadata": {},
      "outputs": [],
      "source": [
        "def evaluate_classical_baseline_model():\n",
        "    test_feature_tensors = {}\n",
        "    for i, genre in enumerate(genres):\n",
        "        print(f\"Computing features for {genre}\")\n",
        "        test_feature_tensors[genre_index_map[genre]] = []\n",
        "        for waveform in tqdm(audio_tensors_test[i]):\n",
        "            zcr = get_zero_crossing_rate(waveform, references_sample_rate)\n",
        "            spectral_centroid = get_spectral_centroid(waveform, references_sample_rate)\n",
        "            spectral_rolloff = get_spectral_rolloff(waveform, references_sample_rate)\n",
        "            spectral_contrast = get_spectral_contrast(waveform, references_sample_rate)\n",
        "            spectral_bandwidth = get_spectral_bandwidth(waveform, references_sample_rate)\n",
        "            test_feature_tensors[genre_index_map[genre]].append({\n",
        "                'zcr': zcr,\n",
        "                'spectral_centroid': spectral_centroid,\n",
        "                'spectral_rolloff': spectral_rolloff,\n",
        "                'spectral_contrast': spectral_contrast,\n",
        "                'spectral_bandwidth': spectral_bandwidth\n",
        "            })\n",
        "    \n",
        "    test_feature_stats_tensors = {}\n",
        "    for genre in genres:\n",
        "        test_feature_stats_tensors[genre_index_map[genre]] = []\n",
        "        for features in tqdm(test_feature_tensors[genre_index_map[genre]]):\n",
        "            features_stats = {}\n",
        "            for feature_name, feature in features.items():\n",
        "                features_stats[feature_name] = (np.mean(feature), np.std(feature))\n",
        "            test_feature_stats_tensors[genre_index_map[genre]].append(features_stats)\n",
        "\n",
        "    # Collect the tensors into an X and y array\n",
        "    test_X = []\n",
        "    test_y = []\n",
        "    for genre in genres:\n",
        "        genre_index = genre_index_map[genre]\n",
        "        for feature_stats in test_feature_stats_tensors[genre_index]:\n",
        "            stats_order = ['zcr', 'spectral_centroid', 'spectral_rolloff', 'spectral_contrast', 'spectral_bandwidth']\n",
        "            test_X.append([feature for stat in stats_order for feature in feature_stats[stat]])\n",
        "            test_y.append(genre_index)\n",
        "\n",
        "    test_X = np.array(test_X)\n",
        "    test_y = np.array(test_y)\n",
        "\n",
        "    fold_folders = list(baseline_random_forest_output_dir.glob('fold_*'))\n",
        "    accuracies = []\n",
        "\n",
        "    for i, fold_folder in enumerate(fold_folders):\n",
        "        model_path = fold_folder / 'model.pkl'\n",
        "        with open(model_path, 'rb') as f:\n",
        "            clf = pickle.load(f)\n",
        "        y_pred = clf.predict(test_X)\n",
        "        acc = accuracy_score(test_y, y_pred)\n",
        "        accuracies.append(acc)\n",
        "    \n",
        "    accuracies = np.array(accuracies)\n",
        "    avg_acc = np.mean(accuracies)\n",
        "    std_acc = np.std(accuracies)\n",
        "    return (-1, -1), (avg_acc, std_acc)\n",
        "\n",
        "classical_baseline_loss_stats, classical_baseline_acc_stats = evaluate_classical_baseline_model()\n",
        "print(f\"Classical Baseline Model Loss: N/A\")\n",
        "print(f\"Classical Baseline Model Accuracy: {classical_baseline_acc_stats[0]:.4f} +/- {classical_baseline_acc_stats[1]:.4f}\")"
      ]
    },
    {
      "cell_type": "code",
      "execution_count": null,
      "metadata": {},
      "outputs": [],
      "source": [
        "def evaluate_contrastive_rf_baseline_model():\n",
        "    # Load the contrastive model\n",
        "    contrastive_embedder_model = GTZANContrastiveModelLarge(128)\n",
        "    contrastive_embedder_model.load_state_dict(torch.load(contrastive_output_dir / 'best.pth'))\n",
        "    contrastive_embedder_model.to(device)\n",
        "    contrastive_embedder_model.eval()\n",
        "\n",
        "    fold_folders = list(contrastive_random_forest_output_dir.glob('fold_*'))\n",
        "    accuracies = []\n",
        "\n",
        "    with torch.no_grad():\n",
        "        for i, fold_folder in enumerate(fold_folders):\n",
        "            for start_prop in np.linspace(0, 1, 11):\n",
        "                gtzan_test_dataset = GTZANDataset(\n",
        "                    audio_tensors_test,\n",
        "                    genres,\n",
        "                    genre_index_map,\n",
        "                    references_sample_rate,\n",
        "                    mask_prob=0,\n",
        "                    randomize=False,\n",
        "                    start_prop=start_prop\n",
        "                )\n",
        "                test_loader = DataLoader(gtzan_test_dataset, batch_size=len(gtzan_test_dataset), shuffle=False)\n",
        "\n",
        "                for (waveform, mel_spectrogram, label) in test_loader:\n",
        "                    mel_spectrogram = mel_spectrogram.to(device)\n",
        "                    embeddings = contrastive_embedder_model.backbone(mel_spectrogram)\n",
        "                    embeddings = embeddings.cpu().detach().numpy()\n",
        "                    label = label.numpy()\n",
        "\n",
        "                    model_path = fold_folder / 'model.pkl'\n",
        "                    with open(model_path, 'rb') as f:\n",
        "                        clf = pickle.load(f)\n",
        "                    y_pred = clf.predict(embeddings)\n",
        "                    acc = accuracy_score(label, y_pred)\n",
        "                    accuracies.append(acc)\n",
        "\n",
        "    accuracies = np.array(accuracies)\n",
        "    avg_acc = np.mean(accuracies)\n",
        "    std_acc = np.std(accuracies)\n",
        "    return (-1, -1), (avg_acc, std_acc)\n",
        "\n",
        "contrastive_rf_baseline_loss_stats, contrastive_rf_baseline_acc_stats = evaluate_contrastive_rf_baseline_model()\n",
        "print(f\"Contrastive RF Baseline Model Loss: N/A\")\n",
        "print(f\"Contrastive RF Baseline Model Accuracy: {contrastive_rf_baseline_acc_stats[0]:.4f} +/- {contrastive_rf_baseline_acc_stats[1]:.4f}\")\n"
      ]
    },
    {
      "cell_type": "code",
      "execution_count": null,
      "metadata": {},
      "outputs": [],
      "source": [
        "# Summary of all the test accuracies\n",
        "print(f\"Baseline Random Forest Test Accuracy: {100*classical_baseline_acc_stats[0]:.2f}% +/- {100*classical_baseline_acc_stats[1]:.2f}%\")\n",
        "print(f\"Baseline CNN Test Accuracy: {100*baseline_deep_acc_stats[0]:.2f}% +/- {100*baseline_deep_acc_stats[1]:.2f}%\")\n",
        "\n",
        "print(f\"MLP with contrastive embeddings Test Accuracy: {100*contrastive_classifier_acc_stats[0]:.2f}%\")\n",
        "print(f\"MLP with contrastive logits Test Accuracy: {100*contrastive_logit_classifier_acc_stats[0]:.2f}%\")\n",
        "\n",
        "print(f\"Random Forest with contrastive embeddings Test Accuracy: {100*contrastive_rf_baseline_acc_stats[0]:.2f}% +/- {100*contrastive_rf_baseline_acc_stats[1]:.2f}%\")"
      ]
    },
    {
      "cell_type": "markdown",
      "metadata": {},
      "source": [
        "For a further test, we would like to train both the baseline CNN and the random forest with contrastive embeddings with different numbers of training samples to see which is more robust to lower dataset sizes."
      ]
    }
  ],
  "metadata": {
    "accelerator": "GPU",
    "colab": {
      "collapsed_sections": [
        "B_rZw0o7hR9j",
        "2HsfhA6q-6e7"
      ],
      "gpuType": "T4",
      "provenance": []
    },
    "kernelspec": {
      "display_name": "Python 3",
      "name": "python3"
    },
    "language_info": {
      "codemirror_mode": {
        "name": "ipython",
        "version": 3
      },
      "file_extension": ".py",
      "mimetype": "text/x-python",
      "name": "python",
      "nbconvert_exporter": "python",
      "pygments_lexer": "ipython3",
      "version": "3.12.3"
    }
  },
  "nbformat": 4,
  "nbformat_minor": 0
}
